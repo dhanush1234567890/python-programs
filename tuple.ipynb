{
  "nbformat": 4,
  "nbformat_minor": 0,
  "metadata": {
    "colab": {
      "name": "tuple.ipynb",
      "provenance": [],
      "collapsed_sections": [],
      "authorship_tag": "ABX9TyPGu0sbhyd1d8Tu27aSZKlt",
      "include_colab_link": true
    },
    "kernelspec": {
      "name": "python3",
      "display_name": "Python 3"
    },
    "language_info": {
      "name": "python"
    }
  },
  "cells": [
    {
      "cell_type": "markdown",
      "metadata": {
        "id": "view-in-github",
        "colab_type": "text"
      },
      "source": [
        "<a href=\"https://colab.research.google.com/github/dhanush1234567890/python-programs/blob/main/tuple.ipynb\" target=\"_parent\"><img src=\"https://colab.research.google.com/assets/colab-badge.svg\" alt=\"Open In Colab\"/></a>"
      ]
    },
    {
      "cell_type": "code",
      "execution_count": 4,
      "metadata": {
        "colab": {
          "base_uri": "https://localhost:8080/"
        },
        "id": "Zv3bej1gvJVt",
        "outputId": "a0ee2de5-cd69-4ebc-cd4a-0ee1711864f1"
      },
      "outputs": [
        {
          "output_type": "stream",
          "name": "stdout",
          "text": [
            "('apple', 'banana', 'ginger')\n"
          ]
        }
      ],
      "source": [
        "fruits=(\"apple\",\"banana\",\"ginger\")\n",
        "print(fruits)"
      ]
    },
    {
      "cell_type": "code",
      "source": [
        "##tuple lengths"
      ],
      "metadata": {
        "id": "WYBfjfcHwkhd"
      },
      "execution_count": 5,
      "outputs": []
    },
    {
      "cell_type": "code",
      "source": [
        "fruits=(\"grapes\",\"banana\",\"apple\")\n",
        "print(len(fruits))"
      ],
      "metadata": {
        "colab": {
          "base_uri": "https://localhost:8080/"
        },
        "id": "oPqCwfyExHEU",
        "outputId": "84a8161e-d94a-4e0d-f19c-85f693403bf7"
      },
      "execution_count": 7,
      "outputs": [
        {
          "output_type": "stream",
          "name": "stdout",
          "text": [
            "3\n"
          ]
        }
      ]
    },
    {
      "cell_type": "code",
      "source": [
        "#create a tuple with one item"
      ],
      "metadata": {
        "id": "FsHlbn2KxYF2"
      },
      "execution_count": 29,
      "outputs": []
    },
    {
      "cell_type": "code",
      "source": [
        "fruits=(\"pineapple\")\n",
        "print(type(fruits))\n",
        "##not a tuple\n",
        "fruits=(\"pineapple\")\n",
        "print(type(fruits))"
      ],
      "metadata": {
        "colab": {
          "base_uri": "https://localhost:8080/"
        },
        "id": "1qheTmHYxgIF",
        "outputId": "04312580-8507-4a0c-ff6f-3ede62048b5a"
      },
      "execution_count": 9,
      "outputs": [
        {
          "output_type": "stream",
          "name": "stdout",
          "text": [
            "<class 'str'>\n",
            "<class 'str'>\n"
          ]
        }
      ]
    },
    {
      "cell_type": "code",
      "source": [
        "##access the tuple items"
      ],
      "metadata": {
        "id": "7Lc9Com3yBQF"
      },
      "execution_count": 10,
      "outputs": []
    },
    {
      "cell_type": "code",
      "source": [
        "fruits=(\"apple\",\"banana\",\"pineapple\")\n",
        "print(fruits[-1])"
      ],
      "metadata": {
        "colab": {
          "base_uri": "https://localhost:8080/"
        },
        "id": "SpeuZJtoyL9l",
        "outputId": "92814991-baf0-4ef6-e8dd-d6ce5e549564"
      },
      "execution_count": 11,
      "outputs": [
        {
          "output_type": "stream",
          "name": "stdout",
          "text": [
            "pineapple\n"
          ]
        }
      ]
    },
    {
      "cell_type": "code",
      "source": [
        "## range of negative indexes"
      ],
      "metadata": {
        "id": "EVPtL6sLyrfE"
      },
      "execution_count": 12,
      "outputs": []
    },
    {
      "cell_type": "code",
      "source": [
        "fruits=(\"mango\",\"grapes\",\"apple\")\n",
        "print(fruits[-3:-1])"
      ],
      "metadata": {
        "colab": {
          "base_uri": "https://localhost:8080/"
        },
        "id": "kADTyCcKy85k",
        "outputId": "12744b7f-0e89-4a08-ff96-0463db67edcf"
      },
      "execution_count": 13,
      "outputs": [
        {
          "output_type": "stream",
          "name": "stdout",
          "text": [
            "('mango', 'grapes')\n"
          ]
        }
      ]
    },
    {
      "cell_type": "code",
      "source": [
        "## check if item is there  "
      ],
      "metadata": {
        "id": "ZgXQoGGYzTh1"
      },
      "execution_count": 15,
      "outputs": []
    },
    {
      "cell_type": "code",
      "source": [
        "fruits=(\"grapes\",\"mango\",\"pineapple\")\n",
        "if \"grapes\" in fruits:\n",
        "   print (\"yes\")\n"
      ],
      "metadata": {
        "colab": {
          "base_uri": "https://localhost:8080/"
        },
        "id": "HJzUnmTBzcVk",
        "outputId": "12ceaef2-1015-428d-df37-9aa48d2a948b"
      },
      "execution_count": 19,
      "outputs": [
        {
          "output_type": "stream",
          "name": "stdout",
          "text": [
            "yes\n"
          ]
        }
      ]
    },
    {
      "cell_type": "code",
      "source": [
        "## change tuple values"
      ],
      "metadata": {
        "id": "L5q-dLlwz8J0"
      },
      "execution_count": 20,
      "outputs": []
    },
    {
      "cell_type": "code",
      "source": [
        "fruits=(\"apple\",\"mango\",\"strawberry\")\n",
        "y=list(fruits)\n",
        "y[2]=\"sai\"\n",
        "fruits=tuple(y)\n",
        "print(fruits)"
      ],
      "metadata": {
        "colab": {
          "base_uri": "https://localhost:8080/"
        },
        "id": "fo8jBf9W0NtV",
        "outputId": "5cd6af0d-3cca-4f71-9dd2-9e068071822d"
      },
      "execution_count": 21,
      "outputs": [
        {
          "output_type": "stream",
          "name": "stdout",
          "text": [
            "('apple', 'mango', 'sai')\n"
          ]
        }
      ]
    },
    {
      "cell_type": "code",
      "source": [
        "## adding items\n"
      ],
      "metadata": {
        "id": "HnZhGW8g0qFV"
      },
      "execution_count": 22,
      "outputs": []
    },
    {
      "cell_type": "code",
      "source": [
        "x=(\"dhanush\",\"anitha\",\"mounika\",\"bhanu\")\n",
        "y=list(x)\n",
        "y.append(\"rakshitha\")\n",
        "x=tuple(y)\n",
        "print(x)"
      ],
      "metadata": {
        "colab": {
          "base_uri": "https://localhost:8080/"
        },
        "id": "kdCHo0q90uRl",
        "outputId": "3e59a6eb-f8a7-46fa-add7-51b41ae34c81"
      },
      "execution_count": 26,
      "outputs": [
        {
          "output_type": "stream",
          "name": "stdout",
          "text": [
            "('dhanush', 'anitha', 'mounika', 'bhanu', 'rakshitha')\n"
          ]
        }
      ]
    },
    {
      "cell_type": "code",
      "source": [
        "##remove items"
      ],
      "metadata": {
        "id": "hdIU6BR-1X4F"
      },
      "execution_count": 27,
      "outputs": []
    },
    {
      "cell_type": "code",
      "source": [
        "x=(\"dhanush\",\"anitha\",\"mounika\",\"bhanu\")\n",
        "y=list(x)\n",
        "y.remove(\"mounika\")\n",
        "x=tuple(y)\n",
        "print(x)"
      ],
      "metadata": {
        "colab": {
          "base_uri": "https://localhost:8080/"
        },
        "id": "m2_MgT4H17P1",
        "outputId": "c7239cc4-77cd-45da-be8c-f8bea444edb4"
      },
      "execution_count": 28,
      "outputs": [
        {
          "output_type": "stream",
          "name": "stdout",
          "text": [
            "('dhanush', 'anitha', 'bhanu')\n"
          ]
        }
      ]
    },
    {
      "cell_type": "code",
      "source": [
        "## negative indexing"
      ],
      "metadata": {
        "id": "jv2IHPlA2GC0"
      },
      "execution_count": 30,
      "outputs": []
    },
    {
      "cell_type": "code",
      "source": [
        "fruits=(\"grapes\",\"banana\",\"pineapple\")\n",
        "print(fruits[-1])"
      ],
      "metadata": {
        "colab": {
          "base_uri": "https://localhost:8080/"
        },
        "id": "d8WZTWSz2kA1",
        "outputId": "478806a2-762a-4a3e-ca27-5a1d866f1f5f"
      },
      "execution_count": 32,
      "outputs": [
        {
          "output_type": "stream",
          "name": "stdout",
          "text": [
            "pineapple\n"
          ]
        }
      ]
    },
    {
      "cell_type": "code",
      "source": [
        "## range of index"
      ],
      "metadata": {
        "id": "K6s46FJ82zWV"
      },
      "execution_count": 33,
      "outputs": []
    },
    {
      "cell_type": "code",
      "source": [
        "names=(\"dhanush\",\"anitha\",\"mounika\",\"bhanu\")\n",
        "print(names[0:3])"
      ],
      "metadata": {
        "colab": {
          "base_uri": "https://localhost:8080/"
        },
        "id": "2rlJaXnP3D9F",
        "outputId": "c1e44a88-ab41-4483-bdd6-fea06fbb640f"
      },
      "execution_count": 34,
      "outputs": [
        {
          "output_type": "stream",
          "name": "stdout",
          "text": [
            "('dhanush', 'anitha', 'mounika')\n"
          ]
        }
      ]
    },
    {
      "cell_type": "code",
      "source": [
        "## add tupie to tuple\n"
      ],
      "metadata": {
        "id": "TrtWA-p23TFl"
      },
      "execution_count": 36,
      "outputs": []
    },
    {
      "cell_type": "code",
      "source": [
        "x=(\"dhanush\",\"anitha\",\"mounika\",\"bhanu\")\n",
        "y=(\"srikanth\",)\n",
        "x +=y\n",
        "print(x)"
      ],
      "metadata": {
        "colab": {
          "base_uri": "https://localhost:8080/"
        },
        "id": "s1q0IAZH3kT0",
        "outputId": "1bd45d6b-bf6c-4698-8732-28127c9928f1"
      },
      "execution_count": 42,
      "outputs": [
        {
          "output_type": "stream",
          "name": "stdout",
          "text": [
            "('dhanush', 'anitha', 'mounika', 'bhanu', 'srikanth')\n"
          ]
        }
      ]
    },
    {
      "cell_type": "code",
      "source": [
        ""
      ],
      "metadata": {
        "id": "gjiGwvUb47Wl"
      },
      "execution_count": null,
      "outputs": []
    }
  ]
}