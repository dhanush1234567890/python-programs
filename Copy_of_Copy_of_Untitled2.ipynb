{
  "nbformat": 4,
  "nbformat_minor": 0,
  "metadata": {
    "colab": {
      "name": "Copy of Copy of Untitled2.ipynb",
      "provenance": [],
      "collapsed_sections": [],
      "authorship_tag": "ABX9TyPfTlgTO6uO2ihTaAaWiP62",
      "include_colab_link": true
    },
    "kernelspec": {
      "name": "python3",
      "display_name": "Python 3"
    },
    "language_info": {
      "name": "python"
    }
  },
  "cells": [
    {
      "cell_type": "markdown",
      "metadata": {
        "id": "view-in-github",
        "colab_type": "text"
      },
      "source": [
        "<a href=\"https://colab.research.google.com/github/dhanush1234567890/python-programs/blob/main/Copy_of_Copy_of_Untitled2.ipynb\" target=\"_parent\"><img src=\"https://colab.research.google.com/assets/colab-badge.svg\" alt=\"Open In Colab\"/></a>"
      ]
    },
    {
      "cell_type": "code",
      "execution_count": null,
      "metadata": {
        "id": "U-ytO5B3T8RC"
      },
      "outputs": [],
      "source": [
        "##3.operations\n",
        "  ##add\n",
        "a=int(input(\"enter the 1st number\"))\n",
        "b=int(input(\"enter the 2nd number\"))\n",
        "add=a+b\n",
        "print(add)\n",
        "  ##multi\n",
        "multi=a*b\n",
        "print(multi)\n",
        "  ##sub\n",
        "sub=a-b\n",
        "print(sub)"
      ]
    },
    {
      "cell_type": "code",
      "source": [
        ""
      ],
      "metadata": {
        "id": "RTKG4eyUdN7Q"
      },
      "execution_count": null,
      "outputs": []
    },
    {
      "cell_type": "code",
      "source": [
        "##4\n",
        "hours=int(input(\"enter the time in hours\"))"
      ],
      "metadata": {
        "id": "LLVqPthEVcoR"
      },
      "execution_count": null,
      "outputs": []
    },
    {
      "cell_type": "code",
      "source": [
        "##factorial of a number\n",
        "a=int(input(\"enter a number\"))\n",
        "\n"
      ],
      "metadata": {
        "id": "i8cGAzUwWOiX"
      },
      "execution_count": null,
      "outputs": []
    },
    {
      "cell_type": "code",
      "source": [
        "##continue statement\n"
      ],
      "metadata": {
        "id": "cEnKsYdiYRA_"
      },
      "execution_count": null,
      "outputs": []
    },
    {
      "cell_type": "code",
      "source": [
        ""
      ],
      "metadata": {
        "id": "Wb7B3Gh8ZgKu"
      },
      "execution_count": null,
      "outputs": []
    }
  ]
}