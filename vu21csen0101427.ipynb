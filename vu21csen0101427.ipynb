{
  "cells": [
    {
      "cell_type": "markdown",
      "metadata": {
        "id": "view-in-github",
        "colab_type": "text"
      },
      "source": [
        "<a href=\"https://colab.research.google.com/github/dhanush1234567890/python-programs/blob/main/vu21csen0101427.ipynb\" target=\"_parent\"><img src=\"https://colab.research.google.com/assets/colab-badge.svg\" alt=\"Open In Colab\"/></a>"
      ]
    },
    {
      "cell_type": "markdown",
      "id": "b961f7a4",
      "metadata": {
        "id": "b961f7a4"
      },
      "source": [
        "## average of three numbers"
      ]
    },
    {
      "cell_type": "code",
      "execution_count": null,
      "id": "b695706a",
      "metadata": {
        "id": "b695706a",
        "outputId": "c1d8f62b-b951-4447-ff8d-6c60e19ecdbe"
      },
      "outputs": [
        {
          "name": "stdout",
          "output_type": "stream",
          "text": [
            "20.0\n"
          ]
        }
      ],
      "source": [
        "a=10\n",
        "b=20\n",
        "c=30\n",
        "avg=(a+b+c)/3\n",
        "print(avg)"
      ]
    },
    {
      "cell_type": "markdown",
      "id": "9e97ce5a",
      "metadata": {
        "id": "9e97ce5a"
      },
      "source": [
        "## multiplication of two numbers"
      ]
    },
    {
      "cell_type": "code",
      "execution_count": null,
      "id": "7144f5c3",
      "metadata": {
        "id": "7144f5c3",
        "outputId": "cbe3353d-fcca-4144-a1fd-14fcdf336098"
      },
      "outputs": [
        {
          "name": "stdout",
          "output_type": "stream",
          "text": [
            "30000\n"
          ]
        }
      ],
      "source": [
        "a=20 \n",
        "b=30\n",
        "c=50\n",
        "mul=a*b*c\n",
        "print(mul)"
      ]
    },
    {
      "cell_type": "markdown",
      "id": "782f132c",
      "metadata": {
        "id": "782f132c"
      },
      "source": [
        "## addition of two numbers(dynamic)"
      ]
    },
    {
      "cell_type": "code",
      "execution_count": null,
      "id": "4ee9bd13",
      "metadata": {
        "id": "4ee9bd13",
        "outputId": "785c2b3b-434c-4b62-d115-2a4b51f198bb"
      },
      "outputs": [
        {
          "name": "stdout",
          "output_type": "stream",
          "text": [
            "enter the number;10\n",
            "enter the number;20\n",
            "30\n",
            "<class 'type'>\n"
          ]
        }
      ],
      "source": [
        "a=int(input(\"enter the number;\"))\n",
        "b=int(input(\"enter the number;\"))\n",
        "add=(a+b)\n",
        "print(add)\n",
        "print(type)\n",
        "      "
      ]
    },
    {
      "cell_type": "markdown",
      "id": "f1fac967",
      "metadata": {
        "id": "f1fac967"
      },
      "source": [
        "## convert int into float"
      ]
    },
    {
      "cell_type": "code",
      "execution_count": null,
      "id": "5d399f48",
      "metadata": {
        "id": "5d399f48",
        "outputId": "a6963ef0-34fb-4ea9-ca69-f15e362d659b"
      },
      "outputs": [
        {
          "name": "stdout",
          "output_type": "stream",
          "text": [
            "<class 'int'>\n",
            "<class 'float'>\n"
          ]
        }
      ],
      "source": [
        "a=10\n",
        "print(type(a))\n",
        "b=float(a)\n",
        "print(type(b))"
      ]
    },
    {
      "cell_type": "markdown",
      "id": "b30155da",
      "metadata": {
        "id": "b30155da"
      },
      "source": [
        "## convert float to int"
      ]
    },
    {
      "cell_type": "code",
      "execution_count": null,
      "id": "f5743e47",
      "metadata": {
        "id": "f5743e47",
        "outputId": "d3ffd245-6c4b-4d5f-adde-0ca30cce6abc"
      },
      "outputs": [
        {
          "name": "stdout",
          "output_type": "stream",
          "text": [
            "<class 'float'>\n",
            "<class 'int'>\n",
            "12\n"
          ]
        }
      ],
      "source": [
        "a=12.5\n",
        "b=int(a)\n",
        "print(type(a))\n",
        "print(type(b))\n",
        "print(b)"
      ]
    },
    {
      "cell_type": "markdown",
      "id": "3dbf522f",
      "metadata": {
        "id": "3dbf522f"
      },
      "source": [
        "## convert int to string"
      ]
    },
    {
      "cell_type": "code",
      "execution_count": null,
      "id": "93ffa6a8",
      "metadata": {
        "id": "93ffa6a8",
        "outputId": "1b894215-21a3-4e45-c03f-a4114f1f2b4c"
      },
      "outputs": [
        {
          "name": "stdout",
          "output_type": "stream",
          "text": [
            "<class 'int'>\n",
            "<class 'str'>\n"
          ]
        }
      ],
      "source": [
        "a=25\n",
        "b=str(a)\n",
        "print(type(a))\n",
        "print(type(b))"
      ]
    },
    {
      "cell_type": "markdown",
      "id": "9cafd081",
      "metadata": {
        "id": "9cafd081"
      },
      "source": [
        "## string to int (not possible only if values is given in alphabets)\n"
      ]
    },
    {
      "cell_type": "markdown",
      "id": "4ccda48c",
      "metadata": {
        "id": "4ccda48c"
      },
      "source": [
        "## boolean"
      ]
    },
    {
      "cell_type": "code",
      "execution_count": null,
      "id": "6217ebcf",
      "metadata": {
        "id": "6217ebcf",
        "outputId": "1bf2f23c-1f21-4658-c60a-f88eba9ccc82"
      },
      "outputs": [
        {
          "name": "stdout",
          "output_type": "stream",
          "text": [
            "True\n",
            "<class 'int'>\n"
          ]
        }
      ],
      "source": [
        "a=10\n",
        "print(bool(a))\n",
        "print(type(a))"
      ]
    },
    {
      "cell_type": "markdown",
      "id": "b3fd1e4d",
      "metadata": {
        "id": "b3fd1e4d"
      },
      "source": [
        "## boolean into int"
      ]
    },
    {
      "cell_type": "code",
      "execution_count": null,
      "id": "5e3ada2f",
      "metadata": {
        "id": "5e3ada2f",
        "outputId": "64f2c0cf-eb08-4f73-d7ca-95f547d07d4a"
      },
      "outputs": [
        {
          "name": "stdout",
          "output_type": "stream",
          "text": [
            "0\n",
            "<class 'int'>\n"
          ]
        }
      ],
      "source": [
        "a=10\n",
        "b=12\n",
        "c=b<a\n",
        "e=int(bool(c))\n",
        "print(e)\n",
        "print(type(e))"
      ]
    },
    {
      "cell_type": "markdown",
      "id": "4336724e",
      "metadata": {
        "id": "4336724e"
      },
      "source": [
        "## convert int into boolean"
      ]
    },
    {
      "cell_type": "code",
      "execution_count": null,
      "id": "876f448e",
      "metadata": {
        "id": "876f448e",
        "outputId": "568ca600-1a01-4654-c2cf-320e0cb1b2a1"
      },
      "outputs": [
        {
          "name": "stdout",
          "output_type": "stream",
          "text": [
            "<class 'int'>\n",
            "False\n",
            "<class 'bool'>\n"
          ]
        }
      ],
      "source": [
        "a=5\n",
        "c=7\n",
        "d=a>c\n",
        "print(type(a))\n",
        "b=bool(d)\n",
        "print(b)\n",
        "print(type(b))"
      ]
    },
    {
      "cell_type": "markdown",
      "id": "b7f1af4b",
      "metadata": {
        "id": "b7f1af4b"
      },
      "source": [
        "## convert boolean into float "
      ]
    },
    {
      "cell_type": "code",
      "execution_count": null,
      "id": "e30e7036",
      "metadata": {
        "id": "e30e7036",
        "outputId": "72c3167b-ba12-4233-af2e-c5064928d25e"
      },
      "outputs": [
        {
          "name": "stdout",
          "output_type": "stream",
          "text": [
            "<class 'bool'>\n",
            "<class 'float'>\n"
          ]
        }
      ],
      "source": [
        "a=bool(10)\n",
        "print(type(a))\n",
        "b=float(a)\n",
        "print(type(b))"
      ]
    },
    {
      "cell_type": "markdown",
      "id": "0e62d81e",
      "metadata": {
        "id": "0e62d81e"
      },
      "source": [
        "## convert boolean into string "
      ]
    },
    {
      "cell_type": "code",
      "execution_count": null,
      "id": "4721a551",
      "metadata": {
        "id": "4721a551",
        "outputId": "6c0e07c4-6d7f-4c1b-f066-09ce52be35aa"
      },
      "outputs": [
        {
          "name": "stdout",
          "output_type": "stream",
          "text": [
            "<class 'bool'>\n",
            "True\n",
            "<class 'str'>\n"
          ]
        }
      ],
      "source": [
        "a=bool(9)\n",
        "print(type(a))\n",
        "b=str(a)\n",
        "print(b)\n",
        "print(type(b))"
      ]
    },
    {
      "cell_type": "markdown",
      "id": "99883ca8",
      "metadata": {
        "id": "99883ca8"
      },
      "source": [
        "## complex into int"
      ]
    },
    {
      "cell_type": "code",
      "execution_count": null,
      "id": "4b4e8358",
      "metadata": {
        "id": "4b4e8358"
      },
      "outputs": [],
      "source": [
        ""
      ]
    }
  ],
  "metadata": {
    "kernelspec": {
      "display_name": "Python 3 (ipykernel)",
      "language": "python",
      "name": "python3"
    },
    "language_info": {
      "codemirror_mode": {
        "name": "ipython",
        "version": 3
      },
      "file_extension": ".py",
      "mimetype": "text/x-python",
      "name": "python",
      "nbconvert_exporter": "python",
      "pygments_lexer": "ipython3",
      "version": "3.9.7"
    },
    "colab": {
      "name": "vu21csen0101427.ipynb",
      "provenance": [],
      "include_colab_link": true
    }
  },
  "nbformat": 4,
  "nbformat_minor": 5
}