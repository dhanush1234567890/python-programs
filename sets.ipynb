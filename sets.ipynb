{
  "nbformat": 4,
  "nbformat_minor": 0,
  "metadata": {
    "colab": {
      "name": "sets.ipynb",
      "provenance": [],
      "authorship_tag": "ABX9TyOdoFfvRlQwYHbxFBEcP5Wm",
      "include_colab_link": true
    },
    "kernelspec": {
      "name": "python3",
      "display_name": "Python 3"
    },
    "language_info": {
      "name": "python"
    }
  },
  "cells": [
    {
      "cell_type": "markdown",
      "metadata": {
        "id": "view-in-github",
        "colab_type": "text"
      },
      "source": [
        "<a href=\"https://colab.research.google.com/github/dhanush1234567890/python-programs/blob/main/sets.ipynb\" target=\"_parent\"><img src=\"https://colab.research.google.com/assets/colab-badge.svg\" alt=\"Open In Colab\"/></a>"
      ]
    },
    {
      "cell_type": "code",
      "execution_count": 20,
      "metadata": {
        "colab": {
          "base_uri": "https://localhost:8080/"
        },
        "id": "FizjDT5-MAZC",
        "outputId": "14d52a3e-55d4-4a59-8d4a-2681a76fa23a"
      },
      "outputs": [
        {
          "output_type": "stream",
          "name": "stdout",
          "text": [
            "('rrr', 'radheshyam', 'kick')\n",
            "True\n",
            "{'rrr', 'kick', 'radheshyam', 'kgf'}\n",
            "{'rrr', 'jaffa', 'radheshyam', 'kick', 'kgf'}\n",
            "{'rrr', 'kick'}\n",
            "{'kick', 'radheshyam'}\n",
            "rrr\n",
            "{'kick', 'radheshyam'}\n",
            "set()\n",
            "{'rrr', 'kick', 'radheshyam'}\n",
            "rrr\n",
            "kick\n",
            "radheshyam\n",
            "{'rrr', 'abcd', 'kick', 'ijkl', 'efgh', 'radheshyam'}\n",
            "{'rrr', 'abcd', 'kick', 'ijkl', 'efgh', 'radheshyam'}\n"
          ]
        }
      ],
      "source": [
        "# python sets\n",
        "a=(\"rrr\",\"radheshyam\",\"kick\")\n",
        "print(a)\n",
        "\n",
        "# access set items\n",
        "a=(\"rrr\",\"radheshyam\",\"kick\")\n",
        "print(\"radheshyam\" in a)\n",
        "\n",
        "#add set items\n",
        "a={\"rrr\",\"radheshyam\",\"kick\"}\n",
        "a.add(\"kgf\")\n",
        "print(a)\n",
        "\n",
        "a={\"rrr\",\"radheshyam\",\"kick\"}\n",
        "b=(\"kgf\",\"jaffa\")\n",
        "a.update(b)\n",
        "print(a)\n",
        "\n",
        "#remove set items\n",
        "a={\"rrr\",\"radheshyam\",\"kick\"}\n",
        "a.remove(\"radheshyam\")\n",
        "print(a)\n",
        "\n",
        "a={\"rrr\",\"radheshyam\",\"kick\"}\n",
        "a.discard(\"rrr\")\n",
        "print(a)\n",
        "\n",
        "a={\"rrr\",\"radheshyam\",\"kick\"}\n",
        "b=a.pop()\n",
        "print(b)\n",
        "print(a)\n",
        "\n",
        "a={\"rrr\",\"radheshyam\",\"kick\"}\n",
        "a.clear()\n",
        "print(a)\n",
        "\n",
        "a={\"rrr\",\"radheshyam\",\"kick\"}\n",
        "del(b)\n",
        "print(a)\n",
        "\n",
        "# loops sets\n",
        "a={\"rrr\",\"radheshyam\",\"kick\"}\n",
        "for b in a:\n",
        "  print(b)\n",
        "\n",
        "#join sets\n",
        "a={\"rrr\",\"radheshyam\",\"kick\"}\n",
        "b={\"abcd\",\"efgh\",\"ijkl\"}\n",
        "c=a.union(b)\n",
        "print(c)\n",
        "\n",
        "\n",
        "a={\"rrr\",\"radheshyam\",\"kick\"}\n",
        "b={\"abcd\",\"efgh\",\"ijkl\"}\n",
        "a.update(b)\n",
        "print(a)\n"
      ]
    },
    {
      "cell_type": "code",
      "source": [
        ""
      ],
      "metadata": {
        "id": "YEiDdvhvSUVa"
      },
      "execution_count": null,
      "outputs": []
    }
  ]
}