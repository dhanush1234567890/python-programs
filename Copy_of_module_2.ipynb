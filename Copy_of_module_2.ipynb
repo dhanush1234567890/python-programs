{
  "nbformat": 4,
  "nbformat_minor": 0,
  "metadata": {
    "colab": {
      "name": "Copy of module 2.ipynb",
      "provenance": [],
      "collapsed_sections": [],
      "authorship_tag": "ABX9TyNrs0pWMQ+hW83VXL2+cVPS",
      "include_colab_link": true
    },
    "kernelspec": {
      "name": "python3",
      "display_name": "Python 3"
    },
    "language_info": {
      "name": "python"
    }
  },
  "cells": [
    {
      "cell_type": "markdown",
      "metadata": {
        "id": "view-in-github",
        "colab_type": "text"
      },
      "source": [
        "<a href=\"https://colab.research.google.com/github/dhanush1234567890/python-programs/blob/main/Copy_of_module_2.ipynb\" target=\"_parent\"><img src=\"https://colab.research.google.com/assets/colab-badge.svg\" alt=\"Open In Colab\"/></a>"
      ]
    },
    {
      "cell_type": "markdown",
      "source": [
        " ## module 2\n",
        " "
      ],
      "metadata": {
        "id": "I5XWoIippre-"
      }
    },
    {
      "cell_type": "code",
      "execution_count": null,
      "metadata": {
        "colab": {
          "base_uri": "https://localhost:8080/"
        },
        "id": "BDGz8IBlpk8E",
        "outputId": "7c14b626-339a-4cb2-cf2b-74b78bf3c005"
      },
      "outputs": [
        {
          "output_type": "stream",
          "name": "stdout",
          "text": [
            "5\n",
            "2\n",
            "10\n"
          ]
        }
      ],
      "source": [
        "#Create a function which accepts two inputs from the user and compute nCr\n",
        "def nCr (a,b):\n",
        "  return(fact(a)/(fact(b)\n",
        "                  *fact(a-b)))            \n",
        "a=int(input(\"\"))\n",
        "b=int(input(\"\"))\n",
        "def fact(a):\n",
        "    res=1\n",
        "    for i in range(2,a+1):\n",
        "      res =res*i\n",
        "    return res\n",
        "print(int(nCr(a,b)))\n",
        "  "
      ]
    },
    {
      "cell_type": "code",
      "source": [
        "#Program to print a specified list after removing the 0th, 4th and 5th elements.\n",
        "#Sample List : ['Red', 'Green', 'White', 'Black', 'Pink', 'Yellow']\n",
        "#Expected Output : ['Green', 'White', 'Black']SDESW"
      ],
      "metadata": {
        "id": "2oPTMHhpsGYD"
      },
      "execution_count": null,
      "outputs": []
    }
  ]
}