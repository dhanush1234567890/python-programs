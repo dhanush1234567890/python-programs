{
  "nbformat": 4,
  "nbformat_minor": 0,
  "metadata": {
    "colab": {
      "name": "Copy of module 2.ipynb",
      "provenance": [],
      "collapsed_sections": [],
      "authorship_tag": "ABX9TyMNL3qLusuyzNj4VJm5V/cL",
      "include_colab_link": true
    },
    "kernelspec": {
      "name": "python3",
      "display_name": "Python 3"
    },
    "language_info": {
      "name": "python"
    }
  },
  "cells": [
    {
      "cell_type": "markdown",
      "metadata": {
        "id": "view-in-github",
        "colab_type": "text"
      },
      "source": [
        "<a href=\"https://colab.research.google.com/github/dhanush1234567890/python-programs/blob/main/Copy_of_module_2.ipynb\" target=\"_parent\"><img src=\"https://colab.research.google.com/assets/colab-badge.svg\" alt=\"Open In Colab\"/></a>"
      ]
    },
    {
      "cell_type": "markdown",
      "source": [
        " ## module 2\n",
        " "
      ],
      "metadata": {
        "id": "I5XWoIippre-"
      }
    },
    {
      "cell_type": "code",
      "execution_count": null,
      "metadata": {
        "colab": {
          "base_uri": "https://localhost:8080/"
        },
        "id": "BDGz8IBlpk8E",
        "outputId": "e2a67e19-471e-420e-dac7-87f213ca0aa6"
      },
      "outputs": [
        {
          "output_type": "stream",
          "name": "stdout",
          "text": [
            "5\n",
            "2\n",
            "10\n"
          ]
        }
      ],
      "source": [
        "#Create a function which accepts two inputs from the user and compute nCr\n",
        "def nCr (l,d):\n",
        "  return(fact(l)/(fact(d)\n",
        "                  *fact(l-d)))\n",
        "l=int(input(\"\"))\n",
        "d=int(input(\"\"))\n",
        "def fact(l):\n",
        "    res=1\n",
        "    for i in range(2,l+1):\n",
        "      res =res*i\n",
        "    return res\n",
        "print(int(nCr(l,d)))\n",
        "  "
      ]
    },
    {
      "cell_type": "code",
      "source": [
        "#Program to print a specified list after removing the 0th, 4th and 5th elements.\n",
        "#Sample List : ['Red', 'Green', 'White', 'Black', 'Pink', 'Yellow']\n",
        "#Exour)pected Output : ['Green', 'White', 'Black']\n"
      ],
      "metadata": {
        "id": "2oPTMHhpsGYD"
      },
      "execution_count": null,
      "outputs": []
    },
    {
      "cell_type": "code",
      "source": [
        "colour=['Red', 'Green', 'White', 'Black', 'Pink', 'Yellow']\n",
        "colour=[x for (i,x) in enumerate (colour) if i not in (0,4,5)]\n",
        "print(colour)"
      ],
      "metadata": {
        "colab": {
          "base_uri": "https://localhost:8080/"
        },
        "id": "EbP33eAs3Klt",
        "outputId": "9b253a75-afb6-4439-e601-7d949550bcbe"
      },
      "execution_count": null,
      "outputs": [
        {
          "output_type": "stream",
          "name": "stdout",
          "text": [
            "['Green', 'White', 'Black']\n"
          ]
        }
      ]
    },
    {
      "cell_type": "markdown",
      "source": [
        "##Given list of tuples, remove all the tuples with length K.\n",
        "##Input : test_list = [(4, 5), (4, ), (8, 6, 7), (1, ), (3, 4, 6, 7)], K = 2\n",
        "##Output : [(4, ), (8, 6, 7), (1, ), (3, 4, 6, 7)]\n",
        "\n",
        "\n"
      ],
      "metadata": {
        "id": "caFFx9f74S0U"
      }
    },
    {
      "cell_type": "code",
      "source": [
        "my_list=[(4, 5), (4, ), (8, 6, 7), (1, ), (3, 4, 6, 7)]\n",
        "\n",
        "print(\"The list is : \" )\n",
        "print(my_list)\n",
        "\n",
        "k=2\n",
        "print(\"the value of k is \")\n",
        "print(k)\n",
        "my_result =[ele for ele in my_list if len(ele) !=k]\n",
        "\n",
        "print(\"the filtered list is : \")\n",
        "print(my_result)"
      ],
      "metadata": {
        "colab": {
          "base_uri": "https://localhost:8080/"
        },
        "id": "3YeaA35V5skD",
        "outputId": "60251596-390d-45f6-97ec-d1139a268832"
      },
      "execution_count": null,
      "outputs": [
        {
          "output_type": "stream",
          "name": "stdout",
          "text": [
            "The list is : \n",
            "[(4, 5), (4,), (8, 6, 7), (1,), (3, 4, 6, 7)]\n",
            "the value of k is \n",
            "2\n",
            "the filtered list is : \n",
            "[(4,), (8, 6, 7), (1,), (3, 4, 6, 7)]\n"
          ]
        }
      ]
    },
    {
      "cell_type": "code",
      "source": [
        "##Program to get the difference between the two lists.\n",
        "a=[1,2,3,4,5]\n",
        "b=[6,7,8,9,3]\n",
        "diff_a_b=list(set(a)-set(b))\n",
        "diff_b_a=list(set(b)-set(a))\n",
        "total_diff=diff_a_b + diff_b_a\n",
        "print(total_diff)\n",
        "\n"
      ],
      "metadata": {
        "colab": {
          "base_uri": "https://localhost:8080/"
        },
        "id": "O0mScAZH69uc",
        "outputId": "9036c196-0316-49c3-c515-5aab81a37ec1"
      },
      "execution_count": null,
      "outputs": [
        {
          "output_type": "stream",
          "name": "stdout",
          "text": [
            "[1, 2, 4, 5, 8, 9, 6, 7]\n"
          ]
        }
      ]
    },
    {
      "cell_type": "code",
      "source": [
        "##Given a list of numbers of list, write a Python program to create a list of tuples\n",
        "##having first element as the number and second element as the square of the\n",
        "##number.\n",
        "my_list = [4, 5, 7, 9, 12]\n",
        "print(\"The list is \")\n",
        "print(my_list)\n",
        "print(\"The resultant tuple is :\")\n",
        "my_result = [(val, pow(val, 2)) for val in my_list]\n",
        "print(my_result)"
      ],
      "metadata": {
        "colab": {
          "base_uri": "https://localhost:8080/"
        },
        "id": "B8hEa5qR7lUM",
        "outputId": "ea8e4bba-8e28-41d4-dd2f-0c8eb95f7315"
      },
      "execution_count": null,
      "outputs": [
        {
          "output_type": "stream",
          "name": "stdout",
          "text": [
            "The list is \n",
            "[4, 5, 7, 9, 12]\n",
            "The resultant tuple is :\n",
            "[(4, 16), (5, 25), (7, 49), (9, 81), (12, 144)]\n"
          ]
        }
      ]
    },
    {
      "cell_type": "code",
      "source": [
        "##Program to generate and print a dictionary that contains a number (between 1\n",
        "##and n) in the form (x, x*x).\n",
        "\n",
        "n=int(input(\"input a number\"))\n",
        "d = dict()\n",
        "\n",
        "for x in range(1,n+1):\n",
        "  d[x]=x*x\n",
        "\n",
        "  print(d)\n"
      ],
      "metadata": {
        "colab": {
          "base_uri": "https://localhost:8080/"
        },
        "id": "kgXPo87K-vPc",
        "outputId": "2d97f5ec-1b99-4839-d17b-8ec7915656cd"
      },
      "execution_count": null,
      "outputs": [
        {
          "output_type": "stream",
          "name": "stdout",
          "text": [
            "input a number2\n",
            "{1: 1}\n",
            "{1: 1, 2: 4}\n"
          ]
        }
      ]
    },
    {
      "cell_type": "code",
      "source": [
        "##Program to remove a key from a dictionary\n",
        "myDict = {'a':1,'b':2,'c':3,'d':4}\n",
        "print(myDict)\n",
        "if 'a' in myDict:\n",
        "  del myDict['a']\n",
        "print(myDict)"
      ],
      "metadata": {
        "colab": {
          "base_uri": "https://localhost:8080/"
        },
        "id": "xbBitBjKA8fy",
        "outputId": "a8378e76-1d1b-4c18-f02c-27cef4f401f3"
      },
      "execution_count": null,
      "outputs": [
        {
          "output_type": "stream",
          "name": "stdout",
          "text": [
            "{'a': 1, 'b': 2, 'c': 3, 'd': 4}\n",
            "{'b': 2, 'c': 3, 'd': 4}\n"
          ]
        }
      ]
    },
    {
      "cell_type": "code",
      "source": [
        "##program to get the maximum and minimum value in a dictionary.\n",
        "my_numbers={\"1\":24,\"w\":98,\"3\":87,\"4\":76}\n",
        "max_value=max(my_numbers, key=my_numbers.get)\n",
        "min_value=min(my_numbers, key=my_numbers.get)\n",
        "print(\"the maximum value in the given numbers has a key:'\"+max_value+\"' and its value is:\",my_numbers[max_value])\n",
        "print(\"the minimum value in the given numbers has a key:'\"+min_value+\"' and its value is:\",my_numbers[min_value])"
      ],
      "metadata": {
        "id": "lnmltbmxBx5k",
        "colab": {
          "base_uri": "https://localhost:8080/"
        },
        "outputId": "87f1ec30-887f-4ef6-d50d-39b4d7a55abc"
      },
      "execution_count": null,
      "outputs": [
        {
          "output_type": "stream",
          "name": "stdout",
          "text": [
            "the maximum value in the given numbers has a key:'w' and its value is: 98\n",
            "the minimum value in the given numbers has a key:'1' and its value is: 24\n"
          ]
        }
      ]
    },
    {
      "cell_type": "code",
      "source": [
        "##Program for Counting occurrence of a certain element in a string, getting indexes that\n",
        "##have matching elements.For ex -.In Rabbit count how many times b has occurred .\n",
        "##Example-I have to go to a doctor and get myself checked. Count the number of\n",
        "##occXrrences of µWo¶.\n",
        "friend1=\"anitha\"\n",
        "print(friend1.count(\"s\"))\n",
        "string=\"have to go to a doctor and get myself checked\"\n",
        "print(string.count(\"e\"))"
      ],
      "metadata": {
        "colab": {
          "base_uri": "https://localhost:8080/"
        },
        "id": "yLHLHJiGMp9o",
        "outputId": "b7db262e-03d5-4e63-8a68-919d0a6702f2"
      },
      "execution_count": null,
      "outputs": [
        {
          "output_type": "stream",
          "name": "stdout",
          "text": [
            "0\n",
            "5\n"
          ]
        }
      ]
    },
    {
      "cell_type": "code",
      "source": [
        "##Program to find the second smallest number and second largest number in a list.\n",
        "numbers=[33,56,47,98,78,67]\n",
        "numbers.sort()\n",
        "print(numbers)\n",
        "print(\"2nd smallest number is:\",numbers[2])\n",
        "print(\"2nd largestt number is:\",numbers[len(numbers)-2])\n"
      ],
      "metadata": {
        "colab": {
          "base_uri": "https://localhost:8080/"
        },
        "id": "GMqeaMbZPZbz",
        "outputId": "3a747476-fe04-4a87-e0e6-6a20094edb0a"
      },
      "execution_count": null,
      "outputs": [
        {
          "output_type": "stream",
          "name": "stdout",
          "text": [
            "[33, 47, 56, 67, 78, 98]\n",
            "2nd smallest number is: 56\n",
            "2nd largestt number is: 78\n"
          ]
        }
      ]
    },
    {
      "cell_type": "code",
      "source": [
        "##Program to perform operations on string using unicodes ,splitting of string,accessing\n",
        "##elements of string using locations\n",
        "my_string=input(\"enter a string: \")\n",
        "print(my_string.split())\n",
        "print(my_string[4:69])"
      ],
      "metadata": {
        "colab": {
          "base_uri": "https://localhost:8080/"
        },
        "id": "LUsUGLl0Qihc",
        "outputId": "40032254-c8bc-42d8-df17-8c6cc9b3c263"
      },
      "execution_count": null,
      "outputs": [
        {
          "output_type": "stream",
          "name": "stdout",
          "text": [
            "enter a string: dhanush is a good boy\n",
            "['dhanush', 'is', 'a', 'good', 'boy']\n",
            "ush is a good boy\n"
          ]
        }
      ]
    },
    {
      "cell_type": "code",
      "source": [
        "##Program for replacing one substring by another For example - Rabbit - Replace µbb¶ b\\µcc¶\n",
        "friend1=\"ankitha\"\n",
        "friend2=friend1.replace(\"k\",\"\")\n",
        "print(friend2)"
      ],
      "metadata": {
        "colab": {
          "base_uri": "https://localhost:8080/"
        },
        "id": "ytOtm_5XRkx0",
        "outputId": "ef4d4f32-e73f-43b1-add7-d20846feaf86"
      },
      "execution_count": null,
      "outputs": [
        {
          "output_type": "stream",
          "name": "stdout",
          "text": [
            "anitha\n"
          ]
        }
      ]
    },
    {
      "cell_type": "code",
      "source": [
        "##Program to Acronym generator for any user input (ex-input is Random memory access\n",
        "##then output should be RMA).Example - Random number (RN)\n",
        "string=input(\"enter the string\")\n",
        "y=string.split()\n",
        "for i in y:\n",
        "  print(i[0],end=\"\")"
      ],
      "metadata": {
        "colab": {
          "base_uri": "https://localhost:8080/"
        },
        "id": "egSmIVWFSvpv",
        "outputId": "6bd6d968-2b4a-4871-968e-77e4ea758c68"
      },
      "execution_count": null,
      "outputs": [
        {
          "output_type": "stream",
          "name": "stdout",
          "text": [
            "enter the stringola\n",
            "o"
          ]
        }
      ]
    },
    {
      "cell_type": "code",
      "source": [
        "##Python function that accepts a string and calculates the number of uppercase\n",
        "##letters and lowercase letters.\n",
        "string=\"i hate my drinker in this WORLD\"\n",
        "count_1=0\n",
        "count_2=0\n",
        "for i in string:\n",
        "  if i.isupper():\n",
        "    count_1+=1\n",
        "  elif i.islower():\n",
        "     count_2+=1\n",
        "  else:\n",
        "    pass\n",
        "  print(\"no.of uppercase alphabets are: \",count_1)\n",
        "  print(\"no.of lowercase alphabets are: \",count_2)"
      ],
      "metadata": {
        "colab": {
          "base_uri": "https://localhost:8080/"
        },
        "id": "s6BgDeBvUN9y",
        "outputId": "25ac6f73-83d4-4617-86c0-941f6a561751"
      },
      "execution_count": null,
      "outputs": [
        {
          "output_type": "stream",
          "name": "stdout",
          "text": [
            "no.of uppercase alphabets are:  0\n",
            "no.of lowercase alphabets are:  1\n",
            "no.of uppercase alphabets are:  0\n",
            "no.of lowercase alphabets are:  1\n",
            "no.of uppercase alphabets are:  0\n",
            "no.of lowercase alphabets are:  2\n",
            "no.of uppercase alphabets are:  0\n",
            "no.of lowercase alphabets are:  3\n",
            "no.of uppercase alphabets are:  0\n",
            "no.of lowercase alphabets are:  4\n",
            "no.of uppercase alphabets are:  0\n",
            "no.of lowercase alphabets are:  5\n",
            "no.of uppercase alphabets are:  0\n",
            "no.of lowercase alphabets are:  5\n",
            "no.of uppercase alphabets are:  0\n",
            "no.of lowercase alphabets are:  6\n",
            "no.of uppercase alphabets are:  0\n",
            "no.of lowercase alphabets are:  7\n",
            "no.of uppercase alphabets are:  0\n",
            "no.of lowercase alphabets are:  7\n",
            "no.of uppercase alphabets are:  0\n",
            "no.of lowercase alphabets are:  8\n",
            "no.of uppercase alphabets are:  0\n",
            "no.of lowercase alphabets are:  9\n",
            "no.of uppercase alphabets are:  0\n",
            "no.of lowercase alphabets are:  10\n",
            "no.of uppercase alphabets are:  0\n",
            "no.of lowercase alphabets are:  11\n",
            "no.of uppercase alphabets are:  0\n",
            "no.of lowercase alphabets are:  12\n",
            "no.of uppercase alphabets are:  0\n",
            "no.of lowercase alphabets are:  13\n",
            "no.of uppercase alphabets are:  0\n",
            "no.of lowercase alphabets are:  14\n",
            "no.of uppercase alphabets are:  0\n",
            "no.of lowercase alphabets are:  14\n",
            "no.of uppercase alphabets are:  0\n",
            "no.of lowercase alphabets are:  15\n",
            "no.of uppercase alphabets are:  0\n",
            "no.of lowercase alphabets are:  16\n",
            "no.of uppercase alphabets are:  0\n",
            "no.of lowercase alphabets are:  16\n",
            "no.of uppercase alphabets are:  0\n",
            "no.of lowercase alphabets are:  17\n",
            "no.of uppercase alphabets are:  0\n",
            "no.of lowercase alphabets are:  18\n",
            "no.of uppercase alphabets are:  0\n",
            "no.of lowercase alphabets are:  19\n",
            "no.of uppercase alphabets are:  0\n",
            "no.of lowercase alphabets are:  20\n",
            "no.of uppercase alphabets are:  0\n",
            "no.of lowercase alphabets are:  20\n",
            "no.of uppercase alphabets are:  1\n",
            "no.of lowercase alphabets are:  20\n",
            "no.of uppercase alphabets are:  2\n",
            "no.of lowercase alphabets are:  20\n",
            "no.of uppercase alphabets are:  3\n",
            "no.of lowercase alphabets are:  20\n",
            "no.of uppercase alphabets are:  4\n",
            "no.of lowercase alphabets are:  20\n",
            "no.of uppercase alphabets are:  5\n",
            "no.of lowercase alphabets are:  20\n"
          ]
        }
      ]
    },
    {
      "cell_type": "code",
      "source": [
        "##Program to count the number of strings where the string length is 2 or more and\n",
        "##the first and last character are same from a given list of strings\n",
        "sample_list =[ \"abc \", \"cvb\",\"4567\",\"deepu\",\"18\",\"fgjhg\"]\n",
        "count=0\n",
        "for i in sample_list:\n",
        "  if len(i)>=2:\n",
        "   if i[0]==i[len(i)-1]:\n",
        "    print(i)\n",
        "  count+=1\n",
        "  print(count)"
      ],
      "metadata": {
        "colab": {
          "base_uri": "https://localhost:8080/"
        },
        "id": "bwUvl5jBWD5-",
        "outputId": "9dca74ff-1a39-48c4-f15b-7b4002679940"
      },
      "execution_count": null,
      "outputs": [
        {
          "output_type": "stream",
          "name": "stdout",
          "text": [
            "1\n",
            "2\n",
            "3\n",
            "4\n",
            "5\n",
            "6\n"
          ]
        }
      ]
    },
    {
      "cell_type": "code",
      "source": [
        ""
      ],
      "metadata": {
        "id": "YV4FJ-GkYHKZ"
      },
      "execution_count": null,
      "outputs": []
    }
  ]
}