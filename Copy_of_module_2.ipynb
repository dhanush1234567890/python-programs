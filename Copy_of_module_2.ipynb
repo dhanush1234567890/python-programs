{
  "nbformat": 4,
  "nbformat_minor": 0,
  "metadata": {
    "colab": {
      "name": "Copy of module 2.ipynb",
      "provenance": [],
      "collapsed_sections": [],
      "authorship_tag": "ABX9TyPTJ0SFvXLLsaFqpkEG1Zyu",
      "include_colab_link": true
    },
    "kernelspec": {
      "name": "python3",
      "display_name": "Python 3"
    },
    "language_info": {
      "name": "python"
    }
  },
  "cells": [
    {
      "cell_type": "markdown",
      "metadata": {
        "id": "view-in-github",
        "colab_type": "text"
      },
      "source": [
        "<a href=\"https://colab.research.google.com/github/dhanush1234567890/python-programs/blob/main/Copy_of_module_2.ipynb\" target=\"_parent\"><img src=\"https://colab.research.google.com/assets/colab-badge.svg\" alt=\"Open In Colab\"/></a>"
      ]
    },
    {
      "cell_type": "markdown",
      "source": [
        " ## module 2\n",
        " "
      ],
      "metadata": {
        "id": "I5XWoIippre-"
      }
    },
    {
      "cell_type": "code",
      "execution_count": null,
      "metadata": {
        "colab": {
          "base_uri": "https://localhost:8080/"
        },
        "id": "BDGz8IBlpk8E",
        "outputId": "e2a67e19-471e-420e-dac7-87f213ca0aa6"
      },
      "outputs": [
        {
          "output_type": "stream",
          "name": "stdout",
          "text": [
            "5\n",
            "2\n",
            "10\n"
          ]
        }
      ],
      "source": [
        "#Create a function which accepts two inputs from the user and compute nCr\n",
        "def nCr (l,d):\n",
        "  return(fact(l)/(fact(d)\n",
        "                  *fact(l-d)))\n",
        "l=int(input(\"\"))\n",
        "d=int(input(\"\"))\n",
        "def fact(l):\n",
        "    res=1\n",
        "    for i in range(2,l+1):\n",
        "      res =res*i\n",
        "    return res\n",
        "print(int(nCr(l,d)))\n",
        "  "
      ]
    },
    {
      "cell_type": "code",
      "source": [
        "#Program to print a specified list after removing the 0th, 4th and 5th elements.\n",
        "#Sample List : ['Red', 'Green', 'White', 'Black', 'Pink', 'Yellow']\n",
        "#Exour)pected Output : ['Green', 'White', 'Black']\n"
      ],
      "metadata": {
        "id": "2oPTMHhpsGYD"
      },
      "execution_count": null,
      "outputs": []
    },
    {
      "cell_type": "code",
      "source": [
        "colour=['Red', 'Green', 'White', 'Black', 'Pink', 'Yellow']\n",
        "colour=[x for (i,x) in enumerate (colour) if i not in (0,4,5)]\n",
        "print(colour)"
      ],
      "metadata": {
        "colab": {
          "base_uri": "https://localhost:8080/"
        },
        "id": "EbP33eAs3Klt",
        "outputId": "9b253a75-afb6-4439-e601-7d949550bcbe"
      },
      "execution_count": null,
      "outputs": [
        {
          "output_type": "stream",
          "name": "stdout",
          "text": [
            "['Green', 'White', 'Black']\n"
          ]
        }
      ]
    },
    {
      "cell_type": "markdown",
      "source": [
        "##Given list of tuples, remove all the tuples with length K.\n",
        "##Input : test_list = [(4, 5), (4, ), (8, 6, 7), (1, ), (3, 4, 6, 7)], K = 2\n",
        "##Output : [(4, ), (8, 6, 7), (1, ), (3, 4, 6, 7)]\n",
        "\n",
        "\n"
      ],
      "metadata": {
        "id": "caFFx9f74S0U"
      }
    },
    {
      "cell_type": "code",
      "source": [
        "my_list=[(4, 5), (4, ), (8, 6, 7), (1, ), (3, 4, 6, 7)]\n",
        "\n",
        "print(\"The list is : \" )\n",
        "print(my_list)\n",
        "\n",
        "k=2\n",
        "print(\"the value of k is \")\n",
        "print(k)\n",
        "my_result =[ele for ele in my_list if len(ele) !=k]\n",
        "\n",
        "print(\"the filtered list is : \")\n",
        "print(my_result)"
      ],
      "metadata": {
        "colab": {
          "base_uri": "https://localhost:8080/"
        },
        "id": "3YeaA35V5skD",
        "outputId": "60251596-390d-45f6-97ec-d1139a268832"
      },
      "execution_count": null,
      "outputs": [
        {
          "output_type": "stream",
          "name": "stdout",
          "text": [
            "The list is : \n",
            "[(4, 5), (4,), (8, 6, 7), (1,), (3, 4, 6, 7)]\n",
            "the value of k is \n",
            "2\n",
            "the filtered list is : \n",
            "[(4,), (8, 6, 7), (1,), (3, 4, 6, 7)]\n"
          ]
        }
      ]
    },
    {
      "cell_type": "code",
      "source": [
        "##Program to get the difference between the two lists.\n",
        "a=[1,2,3,4,5]\n",
        "b=[6,7,8,9,3]\n",
        "diff_a_b=list(set(a)-set(b))\n",
        "diff_b_a=list(set(b)-set(a))\n",
        "total_diff=diff_a_b + diff_b_a\n",
        "print(total_diff)\n",
        "\n"
      ],
      "metadata": {
        "colab": {
          "base_uri": "https://localhost:8080/"
        },
        "id": "O0mScAZH69uc",
        "outputId": "9036c196-0316-49c3-c515-5aab81a37ec1"
      },
      "execution_count": null,
      "outputs": [
        {
          "output_type": "stream",
          "name": "stdout",
          "text": [
            "[1, 2, 4, 5, 8, 9, 6, 7]\n"
          ]
        }
      ]
    },
    {
      "cell_type": "code",
      "source": [
        "##Given a list of numbers of list, write a Python program to create a list of tuples\n",
        "##having first element as the number and second element as the square of the\n",
        "##number.\n",
        "my_list = [4, 5, 7, 9, 12]\n",
        "print(\"The list is \")\n",
        "print(my_list)\n",
        "print(\"The resultant tuple is :\")\n",
        "my_result = [(val, pow(val, 2)) for val in my_list]\n",
        "print(my_result)"
      ],
      "metadata": {
        "colab": {
          "base_uri": "https://localhost:8080/"
        },
        "id": "B8hEa5qR7lUM",
        "outputId": "ea8e4bba-8e28-41d4-dd2f-0c8eb95f7315"
      },
      "execution_count": null,
      "outputs": [
        {
          "output_type": "stream",
          "name": "stdout",
          "text": [
            "The list is \n",
            "[4, 5, 7, 9, 12]\n",
            "The resultant tuple is :\n",
            "[(4, 16), (5, 25), (7, 49), (9, 81), (12, 144)]\n"
          ]
        }
      ]
    },
    {
      "cell_type": "code",
      "source": [
        "##Program to generate and print a dictionary that contains a number (between 1\n",
        "##and n) in the form (x, x*x).\n",
        "\n",
        "n=int(input(\"input a number\"))\n",
        "d = dict()\n",
        "\n",
        "for x in range(1,n+1):\n",
        "  d[x]=x*x\n",
        "\n",
        "  print(d)\n"
      ],
      "metadata": {
        "colab": {
          "base_uri": "https://localhost:8080/"
        },
        "id": "kgXPo87K-vPc",
        "outputId": "2d97f5ec-1b99-4839-d17b-8ec7915656cd"
      },
      "execution_count": null,
      "outputs": [
        {
          "output_type": "stream",
          "name": "stdout",
          "text": [
            "input a number2\n",
            "{1: 1}\n",
            "{1: 1, 2: 4}\n"
          ]
        }
      ]
    },
    {
      "cell_type": "code",
      "source": [
        "##Program to remove a key from a dictionary\n",
        "myDict = {'a':1,'b':2,'c':3,'d':4}\n",
        "print(myDict)\n",
        "if 'a' in myDict:\n",
        "  del myDict['a']\n",
        "print(myDict)"
      ],
      "metadata": {
        "colab": {
          "base_uri": "https://localhost:8080/"
        },
        "id": "xbBitBjKA8fy",
        "outputId": "a8378e76-1d1b-4c18-f02c-27cef4f401f3"
      },
      "execution_count": null,
      "outputs": [
        {
          "output_type": "stream",
          "name": "stdout",
          "text": [
            "{'a': 1, 'b': 2, 'c': 3, 'd': 4}\n",
            "{'b': 2, 'c': 3, 'd': 4}\n"
          ]
        }
      ]
    },
    {
      "cell_type": "code",
      "source": [
        "##program to get the maximum and minimum value in a dictionary.\n",
        "dict=['x': '500:']"
      ],
      "metadata": {
        "id": "lnmltbmxBx5k"
      },
      "execution_count": null,
      "outputs": []
    }
  ]
}