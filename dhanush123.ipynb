{
  "nbformat": 4,
  "nbformat_minor": 0,
  "metadata": {
    "colab": {
      "name": "dhanush123.ipynb",
      "provenance": [],
      "collapsed_sections": [],
      "authorship_tag": "ABX9TyMSHEnOR0rbypUzENjWAkrG",
      "include_colab_link": true
    },
    "kernelspec": {
      "name": "python3",
      "display_name": "Python 3"
    },
    "language_info": {
      "name": "python"
    }
  },
  "cells": [
    {
      "cell_type": "markdown",
      "metadata": {
        "id": "view-in-github",
        "colab_type": "text"
      },
      "source": [
        "<a href=\"https://colab.research.google.com/github/dhanush1234567890/python-programs/blob/main/dhanush123.ipynb\" target=\"_parent\"><img src=\"https://colab.research.google.com/assets/colab-badge.svg\" alt=\"Open In Colab\"/></a>"
      ]
    },
    {
      "cell_type": "code",
      "execution_count": 2,
      "metadata": {
        "colab": {
          "base_uri": "https://localhost:8080/"
        },
        "id": "s4StYWresRoO",
        "outputId": "d72e9400-3a4f-483c-d4f9-49dbce95fb62"
      },
      "outputs": [
        {
          "output_type": "stream",
          "name": "stdout",
          "text": [
            "apple,banana,orange,pineapple,mango\n"
          ]
        }
      ],
      "source": [
        "fruit=(\"apple,banana,orange,pineapple,mango\")\n",
        "print(fruit)"
      ]
    },
    {
      "cell_type": "code",
      "source": [
        "fruit=(\"apple,banana,pineapple,orange,mango\")\n",
        "print(fruit[0])"
      ],
      "metadata": {
        "colab": {
          "base_uri": "https://localhost:8080/"
        },
        "id": "-Yfb_M3q4fnY",
        "outputId": "c2e3d2fe-d813-49d5-b63b-e6511647c569"
      },
      "execution_count": 4,
      "outputs": [
        {
          "output_type": "stream",
          "name": "stdout",
          "text": [
            "a\n"
          ]
        }
      ]
    },
    {
      "cell_type": "code",
      "source": [
        "fruit=(\"apple,banana,pineapple,orange,mango\")\n",
        "print(fruit[-1])"
      ],
      "metadata": {
        "colab": {
          "base_uri": "https://localhost:8080/"
        },
        "id": "8vTav1ua48Gn",
        "outputId": "3c87a29f-b13f-49ba-9a43-4c8c7db69a1e"
      },
      "execution_count": 6,
      "outputs": [
        {
          "output_type": "stream",
          "name": "stdout",
          "text": [
            "o\n"
          ]
        }
      ]
    },
    {
      "cell_type": "code",
      "source": [
        "fruit=[\"apple,banana,pineapple,orange,mango\"]\n",
        "print(fruit)\n",
        "print(fruit[0:2])\n",
        "print(fruit[:2])\n",
        "print(fruit[1:2])\n",
        "print(fruit[:1])\n"
      ],
      "metadata": {
        "colab": {
          "base_uri": "https://localhost:8080/"
        },
        "id": "ob2yM8tO5bJg",
        "outputId": "f9673f1f-eb18-4abf-9bde-62d9b5268f0e"
      },
      "execution_count": 8,
      "outputs": [
        {
          "output_type": "stream",
          "name": "stdout",
          "text": [
            "['apple,banana,pineapple,orange,mango']\n",
            "['apple,banana,pineapple,orange,mango']\n",
            "['apple,banana,pineapple,orange,mango']\n",
            "[]\n",
            "['apple,banana,pineapple,orange,mango']\n"
          ]
        }
      ]
    },
    {
      "cell_type": "code",
      "source": [
        "## append"
      ],
      "metadata": {
        "id": "Pk6xOOuz6MkL"
      },
      "execution_count": null,
      "outputs": []
    },
    {
      "cell_type": "markdown",
      "source": [
        "append,insert,remove"
      ],
      "metadata": {
        "id": "N5qEW-aQ6QjN"
      }
    },
    {
      "cell_type": "code",
      "source": [
        ""
      ],
      "metadata": {
        "id": "SoEcwNaf6jUI"
      },
      "execution_count": null,
      "outputs": []
    }
  ]
}