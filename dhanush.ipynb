{
  "nbformat": 4,
  "nbformat_minor": 0,
  "metadata": {
    "colab": {
      "name": "dhanush.ipynb",
      "provenance": [],
      "collapsed_sections": [],
      "authorship_tag": "ABX9TyOS40xvmVETqM8KpdPNvbIV",
      "include_colab_link": true
    },
    "kernelspec": {
      "name": "python3",
      "display_name": "Python 3"
    },
    "language_info": {
      "name": "python"
    }
  },
  "cells": [
    {
      "cell_type": "markdown",
      "metadata": {
        "id": "view-in-github",
        "colab_type": "text"
      },
      "source": [
        "<a href=\"https://colab.research.google.com/github/dhanush1234567890/python-programs/blob/main/dhanush.ipynb\" target=\"_parent\"><img src=\"https://colab.research.google.com/assets/colab-badge.svg\" alt=\"Open In Colab\"/></a>"
      ]
    },
    {
      "cell_type": "code",
      "execution_count": 5,
      "metadata": {
        "colab": {
          "base_uri": "https://localhost:8080/"
        },
        "id": "9YGwigIcpl-O",
        "outputId": "be90c540-b32b-46cc-b363-9775c24ed3b0"
      },
      "outputs": [
        {
          "output_type": "stream",
          "name": "stdout",
          "text": [
            "you are eligible\n"
          ]
        }
      ],
      "source": [
        "a=20\n",
        "if a>20:\n",
        "       print(\"you are are eligible for voting\")\n",
        "else:\n",
        "    \n",
        "    print(\"you are eligible\")"
      ]
    },
    {
      "cell_type": "code",
      "source": [
        "a=int(input(\"enter your age\"))\n",
        "if a>=10:\n",
        "  print(\"your are eligible for voting\")\n",
        "else:\n",
        "  print(\"your not eligible\")"
      ],
      "metadata": {
        "colab": {
          "base_uri": "https://localhost:8080/"
        },
        "id": "h_tv3HXXrKTC",
        "outputId": "7fe0f020-0f4c-4c31-d6f3-82c3dba2ff16"
      },
      "execution_count": 8,
      "outputs": [
        {
          "output_type": "stream",
          "name": "stdout",
          "text": [
            "enter your age21\n",
            "your are eligible for voting\n"
          ]
        }
      ]
    },
    {
      "cell_type": "code",
      "source": [
        "a=int(input(\"enter your number\"))\n",
        "b=int(input(\"enter your number\"))\n",
        "c=int(input(\"enter your number\"))\n",
        "d=int(input(\"enter your number\"))\n",
        "e=int(input(\"enter your number\"))\n",
        "if a>b & a>c and a>b and a>d and a>e:\n",
        "  print(\"a is greater:\")\n",
        "elif b>a and b>c and b>d and b>e:\n",
        "  print(\"b is greater:\")\n",
        "elif c>a and c>b and c>d and c>e:\n",
        "  print(\"c is greater:\")\n",
        "elif d>a and d>b and d>c and d>e:\n",
        "  print(\"d is greater:\")\n",
        "elif e>a and e>b and e>c and e>d:\n",
        "  print(\"e is greater:\")"
      ],
      "metadata": {
        "colab": {
          "base_uri": "https://localhost:8080/"
        },
        "id": "3vSD5KHAsEZ6",
        "outputId": "bd83cc7a-554a-4033-b206-9fc0d4221eb0"
      },
      "execution_count": 13,
      "outputs": [
        {
          "output_type": "stream",
          "name": "stdout",
          "text": [
            "enter your number55\n",
            "enter your number56\n",
            "enter your number58\n",
            "enter your number70\n",
            "enter your number45\n",
            "d is greater:\n"
          ]
        }
      ]
    },
    {
      "cell_type": "code",
      "source": [
        "for (int i = 1; i < 5; i = i + 1) {\n",
        " printf(\"%d \", i);\n",
        "}"
      ],
      "metadata": {
        "id": "U4wH_nFYy3zL"
      },
      "execution_count": 14,
      "outputs": []
    }
  ]
}