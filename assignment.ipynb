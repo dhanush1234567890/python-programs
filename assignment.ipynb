{
  "nbformat": 4,
  "nbformat_minor": 0,
  "metadata": {
    "colab": {
      "name": "assignment.ipynb",
      "provenance": [],
      "collapsed_sections": [],
      "authorship_tag": "ABX9TyPQdfmSUFqTivIqENTwQ2js",
      "include_colab_link": true
    },
    "kernelspec": {
      "name": "python3",
      "display_name": "Python 3"
    },
    "language_info": {
      "name": "python"
    }
  },
  "cells": [
    {
      "cell_type": "markdown",
      "metadata": {
        "id": "view-in-github",
        "colab_type": "text"
      },
      "source": [
        "<a href=\"https://colab.research.google.com/github/dhanush1234567890/python-programs/blob/main/assignment.ipynb\" target=\"_parent\"><img src=\"https://colab.research.google.com/assets/colab-badge.svg\" alt=\"Open In Colab\"/></a>"
      ]
    },
    {
      "cell_type": "code",
      "execution_count": 10,
      "metadata": {
        "colab": {
          "base_uri": "https://localhost:8080/"
        },
        "id": "3MGbi33GkUeK",
        "outputId": "393ef9bc-c525-48c4-de6d-a9034bc9742b"
      },
      "outputs": [
        {
          "output_type": "stream",
          "name": "stdout",
          "text": [
            "2 2 \n",
            "without recursion= 4\n"
          ]
        }
      ],
      "source": [
        "##write a python program to find power of number with recursion and without recursion(input n=2 , p=3)\n",
        "##without recursion\n",
        "##print(\"without recursion=\",x**y)\n",
        "def pwr(x,y):\n",
        "  z=1\n",
        "  if y>1:\n",
        "    z=x*pwr(x,y-1)\n",
        "    return z\n",
        "  else:\n",
        "      return x\n",
        "a,b=map(int,input().split())\n",
        "#pow(a,b)\n",
        "r=pwr(a,b)\n",
        "print(\"without recursion=\",r)"
      ]
    },
    {
      "cell_type": "code",
      "source": [
        "##write a program to sort tuple by total digits (input: list=[(3,4,6,723),(1,2),(134,234,34)])\n",
        "      ##output:[(1,2)(3,4,6,723)(34,134,234)]\n",
        "a=eval(input(\"enter list of tuples=\"))\n",
        "for i in range(0,len(a)):\n",
        "  a[i]=sorted(a[i])\n",
        "print(sorted(a))"
      ],
      "metadata": {
        "colab": {
          "base_uri": "https://localhost:8080/"
        },
        "id": "mzaHbg3ro-Jh",
        "outputId": "68f54bdf-064e-4706-f52c-28f705bb9dd7"
      },
      "execution_count": 16,
      "outputs": [
        {
          "output_type": "stream",
          "name": "stdout",
          "text": [
            "enter list of tuples=[(3,4,6,723),(1,2),(134,234,34)]\n",
            "[[1, 2], [3, 4, 6, 723], [34, 134, 234]]\n"
          ]
        }
      ]
    },
    {
      "cell_type": "code",
      "source": [
        "##take five subjects from the user and display the grade of the student,if average is 90-100(o),80-89(a+),70-79(a)...\n",
        "a=int(input(\"enter eng marks: \"))\n",
        "b=int(input(\"enter phy marks: \"))\n",
        "c=int(input(\"enter python marks: \"))\n",
        "e=int(input(\"enter xxx marks: \"))\n",
        "d=int(input(\"enter math marks: \"))\n",
        "avg=(a+b+c+d+e)/5\n",
        "if avg>=90:\n",
        "  print(\"0\")\n",
        "elif avg>=80:\n",
        "  print(\"A+\")\n",
        "elif avg>=70:\n",
        "  print(\"A\")\n",
        "elif avg>=60:\n",
        "  print(\"B+\")\n",
        "elif avg>=50:\n",
        "  print(\"B\")\n",
        "elif avg>40:\n",
        "  print(\"FAIL\")"
      ],
      "metadata": {
        "colab": {
          "base_uri": "https://localhost:8080/"
        },
        "id": "TDkRtOoUpXM6",
        "outputId": "5db06595-99dd-424f-b8c8-b3bbb875ab70"
      },
      "execution_count": 17,
      "outputs": [
        {
          "output_type": "stream",
          "name": "stdout",
          "text": [
            "enter eng marks: 99\n",
            "enter phy marks: 99\n",
            "enter python marks: 99\n",
            "enter xxx marks: 99\n",
            "enter math marks: 99\n",
            "0\n"
          ]
        }
      ]
    },
    {
      "cell_type": "code",
      "source": [
        "#write a python program that prints 1 if all three given numbers are ascending order.\n",
        "a=int(input(\"enter a number: \"))\n",
        "b=int(input(\"enter a number: \"))\n",
        "c=int(input(\"enter a number: \"))\n",
        "\n",
        "if b!=a+1 or c!=b+1:\n",
        "  print(0)\n",
        "elif b==a+1 and c==b+1:\n",
        "  print(1)\n",
        "  "
      ],
      "metadata": {
        "colab": {
          "base_uri": "https://localhost:8080/"
        },
        "id": "NbAj-8ePxCcc",
        "outputId": "60acd6ba-b585-42cf-bd7e-7af3e8f04665"
      },
      "execution_count": 38,
      "outputs": [
        {
          "output_type": "stream",
          "name": "stdout",
          "text": [
            "enter a number: 1\n",
            "enter a number: 4\n",
            "enter a number: 3\n",
            "0\n"
          ]
        }
      ]
    },
    {
      "cell_type": "code",
      "source": [
        "#check a given number is perfect number are not\n",
        "n=int(input(\"Enter a number: \"))\n",
        "sum1=0\n",
        "for i in range(1,n):\n",
        " if(n % i ==0):\n",
        "    sum1 =sum1 + i\n",
        "if(sum1 == n):\n",
        "    print(\"the number is a perfect number! \")\n",
        "else:\n",
        "    print(\"the number is not a perfect number! \")\n"
      ],
      "metadata": {
        "colab": {
          "base_uri": "https://localhost:8080/"
        },
        "id": "LraUYlpkyTh1",
        "outputId": "40a25dd8-f373-4f91-f35c-68a01a67422e"
      },
      "execution_count": 34,
      "outputs": [
        {
          "output_type": "stream",
          "name": "stdout",
          "text": [
            "Enter a number: 6\n",
            "the number is a perfect number! \n"
          ]
        }
      ]
    },
    {
      "cell_type": "code",
      "source": [
        ""
      ],
      "metadata": {
        "id": "5JZbqzSW0EbU"
      },
      "execution_count": null,
      "outputs": []
    }
  ]
}