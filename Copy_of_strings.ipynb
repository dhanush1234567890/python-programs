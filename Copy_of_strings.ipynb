{
  "nbformat": 4,
  "nbformat_minor": 0,
  "metadata": {
    "colab": {
      "name": "Copy of strings.ipynb",
      "provenance": [],
      "authorship_tag": "ABX9TyMKaLzM+EdgLFK9fIx0YZVI",
      "include_colab_link": true
    },
    "kernelspec": {
      "name": "python3",
      "display_name": "Python 3"
    },
    "language_info": {
      "name": "python"
    }
  },
  "cells": [
    {
      "cell_type": "markdown",
      "metadata": {
        "id": "view-in-github",
        "colab_type": "text"
      },
      "source": [
        "<a href=\"https://colab.research.google.com/github/dhanush1234567890/python-programs/blob/main/Copy_of_strings.ipynb\" target=\"_parent\"><img src=\"https://colab.research.google.com/assets/colab-badge.svg\" alt=\"Open In Colab\"/></a>"
      ]
    },
    {
      "cell_type": "code",
      "execution_count": null,
      "metadata": {
        "colab": {
          "base_uri": "https://localhost:8080/"
        },
        "id": "u6JtgE6SU_86",
        "outputId": "f33f55c2-6bd1-4325-8fac-7565f6e4e4ec"
      },
      "outputs": [
        {
          "output_type": "stream",
          "name": "stdout",
          "text": [
            "string\n",
            "<class 'str'>\n",
            "t\n",
            "6\n",
            "12\n",
            "True\n",
            "False\n",
            "r m\n"
          ]
        }
      ],
      "source": [
        "#string\n",
        "a=\"string\"\n",
        "print(a)\n",
        "print(type(a))\n",
        "print(a[1])\n",
        "#length\n",
        "a=\"string\"\n",
        "print(len(a))\n",
        "\n",
        "a=\"hello string\"\n",
        "print(len(a))\n",
        "\n",
        "a=\"rrr has been released\"\n",
        "print(\"rrr\" in a)\n",
        "\n",
        "a=\"rrr has been released\"\n",
        "print(\"rrr\" not in a)\n",
        "\n",
        "a=\"rrr movie has been released\"\n",
        "print(a[2:5])"
      ]
    },
    {
      "cell_type": "markdown",
      "source": [
        "## modify strings\n"
      ],
      "metadata": {
        "id": "AQ4-Sgj6ZqFv"
      }
    },
    {
      "cell_type": "code",
      "source": [
        "# convert the  string into upper case\n",
        "a=\"rrr has been released\"\n",
        "print(a.upper())\n",
        "\n",
        "# convert the string into lower case\n",
        "a=\"rrr has been released\"\n",
        "print(a.lower())\n",
        "\n",
        "#remove white space\n",
        "a=\"rrr has been released\"\n",
        "print(a.strip())\n",
        "\n",
        "#replacing string\n",
        "a=\"rrr has been released\"\n",
        "print(a.replace(\"rrr\",\"raja\"))\n",
        "\n",
        "#split strings\n",
        "a=\"rrr, has been replaced\"\n",
        "print(a.split(\",\"))\n",
        "\n",
        "\n",
        "# string concatenation\n",
        "a=\"bhanu\"\n",
        "b=\"mounika\"\n",
        "#print(a+\" \"+b)\n"
      ],
      "metadata": {
        "colab": {
          "base_uri": "https://localhost:8080/"
        },
        "id": "Uhc9oRdbZtfx",
        "outputId": "46660bd2-2a77-46dc-b581-d4bde60ce20a"
      },
      "execution_count": null,
      "outputs": [
        {
          "output_type": "stream",
          "name": "stdout",
          "text": [
            "RRR HAS BEEN RELEASED\n",
            "rrr has been released\n",
            "rrr has been released\n",
            "raja has been released\n",
            "['rrr', ' has been replaced']\n"
          ]
        }
      ]
    },
    {
      "cell_type": "markdown",
      "source": [
        "## format strings\n"
      ],
      "metadata": {
        "id": "5S64J4UycNJR"
      }
    },
    {
      "cell_type": "code",
      "source": [
        "a=145\n",
        "b=\"hello ()\"\n",
        "print(b.format(a,b))\n",
        "\n",
        "price=150\n",
        "quantity=3\n",
        "item=1\n",
        "name=\"kgf\"\n",
        "myorder=\"i bought {3} with{0} having {1} and purchase {2}\"\n",
        "print(myorder.format(price,quantity,item,name))\n",
        "\n",
        "\n",
        "sub1=int(input(\"enter math marks\"))\n",
        "sub2=int(input(\"enter phy marks\"))\n",
        "sub3=int(input(\"enter eng marks\"))\n",
        "sub4=int(input(\"enter telugu marks\"))\n",
        "sub5=int(input(\"enter beee marks\"))\n",
        "marks=\"my math marks are {0} phy marks are {1} eng marks are {2} telugu marks are {3} beee marks are {4}\"\n",
        "print(marks.format(sub1,sub2,sub3,sub4,sub5))\n",
        "                   "
      ],
      "metadata": {
        "colab": {
          "base_uri": "https://localhost:8080/"
        },
        "id": "pJYazG-scQsz",
        "outputId": "ec6a3aeb-1799-4282-cef6-f515cd4c0bf6"
      },
      "execution_count": null,
      "outputs": [
        {
          "output_type": "stream",
          "name": "stdout",
          "text": [
            "hello ()\n",
            "i bought kgf with150 having 3 and purchase 1\n",
            "enter math marks99\n",
            "enter phy marks99\n",
            "enter eng marks97\n",
            "enter telugu marks99\n",
            "enter beee marks99\n",
            "my math marks are 99 phy marks are 99 eng marks are 97 telugu marks are 99 beee marks are 99\n"
          ]
        }
      ]
    },
    {
      "cell_type": "markdown",
      "source": [
        "## escape characters"
      ],
      "metadata": {
        "id": "h-aPV57df0kl"
      }
    },
    {
      "cell_type": "code",
      "source": [
        "a=\"hello bhanu \\\"hi\\\"\"\n",
        "print(a)\n",
        "b=\"hey mounika \\\\is mental\"\n",
        "print(b)\n",
        "c=\"hello \\nbhavana\"\n",
        "print(c)\n",
        "d=\"hello \\tabhi\"\n",
        "print(d)\n",
        "e=\"hello\\bdhanush\"\n",
        "print(e)\n",
        "h=\"hello\\fvenkat\"\n",
        "print(h)\n",
        "\n",
        "#octal value\n",
        "a=\"\\110\\145\\154\\154\\157\"\n",
        "print(a)\n"
      ],
      "metadata": {
        "colab": {
          "base_uri": "https://localhost:8080/"
        },
        "id": "ntAz_p3of5Er",
        "outputId": "8faf40da-661b-41cc-dd01-67f316ba876c"
      },
      "execution_count": null,
      "outputs": [
        {
          "output_type": "stream",
          "name": "stdout",
          "text": [
            "hello bhanu \"hi\"\n",
            "hey mounika \\is mental\n",
            "hello \n",
            "bhavana\n",
            "hello \tabhi\n",
            "hello\bdhanush\n",
            "hello\fvenkat\n",
            "Hello\n"
          ]
        }
      ]
    },
    {
      "cell_type": "markdown",
      "source": [
        "## string methods"
      ],
      "metadata": {
        "id": "cmb9MKa-hN_I"
      }
    },
    {
      "cell_type": "code",
      "source": [
        "a=\"bhanu\"\n",
        "b=a.capitalize()\n",
        "print(b)\n",
        "\n",
        "a=\"bhanu\"\n",
        "b=a.casefold()\n",
        "print(b)\n",
        "\n",
        "a=\"bhanu\"\n",
        "b=a.center(30)\n",
        "print(b)\n",
        "\n",
        "a=\"hello world welcome to my world\"\n",
        "b=a.count(\"\")\n",
        "print(b)\n",
        "print(len(a))"
      ],
      "metadata": {
        "colab": {
          "base_uri": "https://localhost:8080/"
        },
        "id": "FwKqFOsyhSAi",
        "outputId": "56a130d3-c571-49b1-ad6b-f43d871b7f53"
      },
      "execution_count": null,
      "outputs": [
        {
          "output_type": "stream",
          "name": "stdout",
          "text": [
            "Bhanu\n",
            "bhanu\n",
            "            bhanu             \n",
            "32\n",
            "31\n"
          ]
        }
      ]
    }
  ]
}