{
  "nbformat": 4,
  "nbformat_minor": 0,
  "metadata": {
    "colab": {
      "name": "functions.ipynb",
      "provenance": [],
      "authorship_tag": "ABX9TyMyQiC/GrJIF7C1p1weMr7q",
      "include_colab_link": true
    },
    "kernelspec": {
      "name": "python3",
      "display_name": "Python 3"
    },
    "language_info": {
      "name": "python"
    }
  },
  "cells": [
    {
      "cell_type": "markdown",
      "metadata": {
        "id": "view-in-github",
        "colab_type": "text"
      },
      "source": [
        "<a href=\"https://colab.research.google.com/github/dhanush1234567890/python-programs/blob/main/functions.ipynb\" target=\"_parent\"><img src=\"https://colab.research.google.com/assets/colab-badge.svg\" alt=\"Open In Colab\"/></a>"
      ]
    },
    {
      "cell_type": "markdown",
      "source": [
        "## calling a function "
      ],
      "metadata": {
        "id": "jYDUQyz7V21V"
      }
    },
    {
      "cell_type": "code",
      "source": [
        "#functions\n",
        "def dhanush():\n",
        "  print(\"Hello from dhanush\")\n",
        "dhanush()"
      ],
      "metadata": {
        "colab": {
          "base_uri": "https://localhost:8080/"
        },
        "id": "0x6wQvKKV8lK",
        "outputId": "8ead84fa-0c82-48f9-93df-c0767fa2b13d"
      },
      "execution_count": 13,
      "outputs": [
        {
          "output_type": "stream",
          "name": "stdout",
          "text": [
            "Hello from dhanush\n"
          ]
        }
      ]
    },
    {
      "cell_type": "markdown",
      "source": [
        "## arguments"
      ],
      "metadata": {
        "id": "bo63K6QNXPM7"
      }
    },
    {
      "cell_type": "code",
      "source": [
        "def DHANUSH(HI):\n",
        "  print(HI + \"  STUDENT\")\n",
        "\n",
        "DHANUSH(\"GOOD\")\n",
        "DHANUSH(\"BAD\")\n",
        "DHANUSH(\"AVERAGE\")"
      ],
      "metadata": {
        "colab": {
          "base_uri": "https://localhost:8080/"
        },
        "id": "GyBTGwzlXSSq",
        "outputId": "f196c5fc-a05a-4b6e-d858-bec7d0f15216"
      },
      "execution_count": 16,
      "outputs": [
        {
          "output_type": "stream",
          "name": "stdout",
          "text": [
            "GOOD  STUDENT\n",
            "BAD  STUDENT\n",
            "AVERAGE  STUDENT\n"
          ]
        }
      ]
    },
    {
      "cell_type": "markdown",
      "source": [
        "## with arguments and with out return"
      ],
      "metadata": {
        "id": "tuADcp4bdIcI"
      }
    },
    {
      "cell_type": "code",
      "source": [
        "def votting(g, n, a):\n",
        "  print(g + \"male\")\n",
        "  print(n +\"dhanush\")\n",
        "  print(a +\"18\")\n",
        "votting(\"gender:\",\"name:\",\"age:\")"
      ],
      "metadata": {
        "colab": {
          "base_uri": "https://localhost:8080/"
        },
        "id": "2apUvYMCZIvJ",
        "outputId": "fa5773a9-3ce7-4b44-b58a-a12e8d848951"
      },
      "execution_count": 22,
      "outputs": [
        {
          "output_type": "stream",
          "name": "stdout",
          "text": [
            "gender:male\n",
            "name:dhanush\n",
            "age:18\n"
          ]
        }
      ]
    },
    {
      "cell_type": "markdown",
      "source": [
        "## without "
      ],
      "metadata": {
        "id": "tjdWDfvMdehH"
      }
    },
    {
      "cell_type": "code",
      "source": [
        "def sum(a+b):\n",
        "  c+a=b\n",
        "  return c \n",
        "  print\n",
        "\n"
      ],
      "metadata": {
        "colab": {
          "base_uri": "https://localhost:8080/",
          "height": 130
        },
        "id": "j5z3pLGWaVXp",
        "outputId": "d90f7d8d-f7d8-4522-976e-8e68fd257e02"
      },
      "execution_count": 24,
      "outputs": [
        {
          "output_type": "error",
          "ename": "SyntaxError",
          "evalue": "ignored",
          "traceback": [
            "\u001b[0;36m  File \u001b[0;32m\"<ipython-input-24-9f11cf298335>\"\u001b[0;36m, line \u001b[0;32m1\u001b[0m\n\u001b[0;31m    def sum(a+b):\u001b[0m\n\u001b[0m             ^\u001b[0m\n\u001b[0;31mSyntaxError\u001b[0m\u001b[0;31m:\u001b[0m invalid syntax\n"
          ]
        }
      ]
    },
    {
      "cell_type": "code",
      "source": [
        "def age():\n",
        " a=int(input(\"enter a\"))\n",
        "if(a>=18):\n",
        "  print(\"eligible\")\n",
        "else:\n",
        "   print(\"not eligible\")\n",
        "age()"
      ],
      "metadata": {
        "colab": {
          "base_uri": "https://localhost:8080/"
        },
        "id": "dmlPSmdNdT4H",
        "outputId": "9f4086a5-3a89-4ffe-85ce-f7f1cb863924"
      },
      "execution_count": 27,
      "outputs": [
        {
          "name": "stdout",
          "output_type": "stream",
          "text": [
            "eligible\n",
            "enter a55\n"
          ]
        }
      ]
    },
    {
      "cell_type": "code",
      "source": [
        ""
      ],
      "metadata": {
        "id": "jNTtFcGve6_P"
      },
      "execution_count": null,
      "outputs": []
    }
  ]
}