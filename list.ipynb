{
  "nbformat": 4,
  "nbformat_minor": 0,
  "metadata": {
    "colab": {
      "name": "list.ipynb",
      "provenance": [],
      "authorship_tag": "ABX9TyPEFeMTqOQbfi7UiGhwghkq",
      "include_colab_link": true
    },
    "kernelspec": {
      "name": "python3",
      "display_name": "Python 3"
    },
    "language_info": {
      "name": "python"
    }
  },
  "cells": [
    {
      "cell_type": "markdown",
      "metadata": {
        "id": "view-in-github",
        "colab_type": "text"
      },
      "source": [
        "<a href=\"https://colab.research.google.com/github/dhanush1234567890/python-programs/blob/main/list.ipynb\" target=\"_parent\"><img src=\"https://colab.research.google.com/assets/colab-badge.svg\" alt=\"Open In Colab\"/></a>"
      ]
    },
    {
      "cell_type": "code",
      "execution_count": 8,
      "metadata": {
        "colab": {
          "base_uri": "https://localhost:8080/"
        },
        "id": "Qj9Uso3qVdNQ",
        "outputId": "073669db-af80-482a-a500-ad65f6050298"
      },
      "outputs": [
        {
          "output_type": "stream",
          "name": "stdout",
          "text": [
            "('apple', 'banana', 'mango', 'pineapple', 'papaya')\n",
            "('apple', 'banana', 'mango')\n",
            "mango\n"
          ]
        }
      ],
      "source": [
        "fruits=(\"apple\",\"banana\",\"mango\",\"pineapple\",\"papaya\")\n",
        "print(fruits)\n",
        "print(fruits[0:3])\n",
        "print(fruits[2])"
      ]
    },
    {
      "cell_type": "code",
      "source": [
        "choclates=(\"dairy milk\",\"five star\",\"milky bar\",\"chocos\",\"black berry\")\n",
        "print(choclates)\n",
        "print(choclates[0:2])\n",
        "print(choclates[3])"
      ],
      "metadata": {
        "colab": {
          "base_uri": "https://localhost:8080/"
        },
        "id": "afiH5lPnXHD0",
        "outputId": "8d894da0-2d21-4949-c3d7-523cad44c848"
      },
      "execution_count": 14,
      "outputs": [
        {
          "output_type": "stream",
          "name": "stdout",
          "text": [
            "('dairy milk', 'five star', 'milky bar', 'chocos', 'black berry')\n",
            "('dairy milk', 'five star')\n",
            "chocos\n"
          ]
        }
      ]
    },
    {
      "cell_type": "code",
      "source": [
        "fruit=[\"apple\",\"banana\",\"mango\",\"pineapple\",\"papaya\"]\n",
        "print(fruit)\n",
        "fruit.append(\"star fruit\")\n",
        "print(fruit)\n",
        "## inserting int list\n",
        "fruit.insert(0,\"orange\")\n",
        "print(fruit)\n",
        "## removing from the list\n",
        "fruit.remove(\"star fruit\")\n",
        "print (fruits)"
      ],
      "metadata": {
        "colab": {
          "base_uri": "https://localhost:8080/"
        },
        "id": "lSq789SwaFMM",
        "outputId": "a2c8fc31-8aff-4c30-a990-9781ee73aa19"
      },
      "execution_count": 33,
      "outputs": [
        {
          "output_type": "stream",
          "name": "stdout",
          "text": [
            "['apple', 'banana', 'mango', 'pineapple', 'papaya']\n",
            "['apple', 'banana', 'mango', 'pineapple', 'papaya', 'star fruit']\n",
            "['orange', 'apple', 'banana', 'mango', 'pineapple', 'papaya', 'star fruit']\n",
            "('apple', 'banana', 'mango', 'pineapple', 'papaya')\n"
          ]
        }
      ]
    },
    {
      "cell_type": "code",
      "source": [
        "numbers=[\"1\",\"2\",\"3\",\"4\",\"5\",\"6\"]\n",
        "print(numbers)\n",
        "#pop and remove \n",
        "numbers.remove(\"3\")\n",
        "print(numbers)\n",
        "numbers.pop(4)\n",
        "#delete\n",
        "del numbers[1]\n",
        "print(numbers)\n",
        "#clear the list content\n",
        "print(numbers)\n",
        "#SORT\n",
        "num=[10,20,303,40,50]\n",
        "num.sort()\n",
        "print(num)\n",
        "#sort is descending\n",
        "num"
      ],
      "metadata": {
        "colab": {
          "base_uri": "https://localhost:8080/"
        },
        "id": "pDpAeG57hjE4",
        "outputId": "de251eda-30bd-4f2d-8183-401cc039e9c9"
      },
      "execution_count": 36,
      "outputs": [
        {
          "output_type": "stream",
          "name": "stdout",
          "text": [
            "['1', '2', '3', '4', '5', '6']\n",
            "['1', '2', '4', '5', '6']\n",
            "['1', '4', '5']\n",
            "['1', '4', '5']\n",
            "[10, 20, 40, 50, 303]\n"
          ]
        },
        {
          "output_type": "execute_result",
          "data": {
            "text/plain": [
              "[10, 20, 40, 50, 303]"
            ]
          },
          "metadata": {},
          "execution_count": 36
        }
      ]
    },
    {
      "cell_type": "code",
      "source": [
        ""
      ],
      "metadata": {
        "id": "C0xL_GCcmCsf"
      },
      "execution_count": 37,
      "outputs": []
    }
  ]
}