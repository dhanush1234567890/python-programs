{
  "nbformat": 4,
  "nbformat_minor": 0,
  "metadata": {
    "colab": {
      "name": "while loops .ipynb",
      "provenance": [],
      "authorship_tag": "ABX9TyPqEPGEkMaaTxBVxnQ/54XO",
      "include_colab_link": true
    },
    "kernelspec": {
      "name": "python3",
      "display_name": "Python 3"
    },
    "language_info": {
      "name": "python"
    }
  },
  "cells": [
    {
      "cell_type": "markdown",
      "metadata": {
        "id": "view-in-github",
        "colab_type": "text"
      },
      "source": [
        "<a href=\"https://colab.research.google.com/github/dhanush1234567890/python-programs/blob/main/while_loops_.ipynb\" target=\"_parent\"><img src=\"https://colab.research.google.com/assets/colab-badge.svg\" alt=\"Open In Colab\"/></a>"
      ]
    },
    {
      "cell_type": "code",
      "execution_count": 4,
      "metadata": {
        "colab": {
          "base_uri": "https://localhost:8080/"
        },
        "id": "FURg0H3NLYTg",
        "outputId": "3587fe42-228e-425d-a932-d456def305db"
      },
      "outputs": [
        {
          "output_type": "stream",
          "name": "stdout",
          "text": [
            "Input lengths of the triangle sides: \n",
            "x: 86\n",
            "y: 64\n",
            "z: 83\n",
            "Scalene triangle\n"
          ]
        }
      ],
      "source": [
        "## check wheather the triangle is eqilateral,isosceles or scalen traiangle\n",
        "print(\"Input lengths of the triangle sides: \")\n",
        "x = int(input(\"x: \"))\n",
        "y = int(input(\"y: \"))\n",
        "z = int(input(\"z: \"))\n",
        "\n",
        "if x == y == z:\n",
        "\tprint(\"Equilateral triangle\")\n",
        "elif x==y or y==z or z==x:\n",
        "\tprint(\"isosceles triangle\")\n",
        "else:\n",
        "\tprint(\"Scalene triangle\")"
      ]
    },
    {
      "cell_type": "markdown",
      "source": [
        ""
      ],
      "metadata": {
        "id": "7i4gx_ouOkKz"
      }
    },
    {
      "cell_type": "code",
      "source": [
        "##  year is leap year or not\n",
        "year = int(input(\"Enter Year: \"))\n",
        "# Leap Year Check\n",
        "if year % 4 == 0 and year % 100 != 0:\n",
        "    print(year, \"is a Leap Year\")\n",
        "elif year % 100 == 0:\n",
        "    print(year, \"is not a Leap Year\")\n",
        "elif year % 400 ==0:\n",
        "    print(year, \"is a Leap Year\")\n",
        "else:\n",
        "    print(year, \"is not a Leap Year\")\n",
        "\n"
      ],
      "metadata": {
        "colab": {
          "base_uri": "https://localhost:8080/"
        },
        "id": "PPbtmNpaOz4D",
        "outputId": "8940b7d7-49db-434d-93b9-f57b6ef12b69"
      },
      "execution_count": 9,
      "outputs": [
        {
          "output_type": "stream",
          "name": "stdout",
          "text": [
            "Enter Year: 2015\n",
            "2015 is not a Leap Year\n"
          ]
        }
      ]
    },
    {
      "cell_type": "code",
      "source": [
        "## find minimum of three numbers\n",
        "n1=int(input(\"Enter the first number:\"))\n",
        "n2=int(input(\"Enter the second number:\")) \n",
        "n3=int(input(\"Enter the third number:\")) \n"
      ],
      "metadata": {
        "id": "PwQ-3gxjTINr"
      },
      "execution_count": null,
      "outputs": []
    }
  ]
}