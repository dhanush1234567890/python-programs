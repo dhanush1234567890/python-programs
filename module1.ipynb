{
  "nbformat": 4,
  "nbformat_minor": 0,
  "metadata": {
    "colab": {
      "name": "module1.ipynb",
      "provenance": [],
      "authorship_tag": "ABX9TyPW7y00A8LQSJneiYJq6UKr",
      "include_colab_link": true
    },
    "kernelspec": {
      "name": "python3",
      "display_name": "Python 3"
    },
    "language_info": {
      "name": "python"
    }
  },
  "cells": [
    {
      "cell_type": "markdown",
      "metadata": {
        "id": "view-in-github",
        "colab_type": "text"
      },
      "source": [
        "<a href=\"https://colab.research.google.com/github/dhanush1234567890/python-programs/blob/main/module1.ipynb\" target=\"_parent\"><img src=\"https://colab.research.google.com/assets/colab-badge.svg\" alt=\"Open In Colab\"/></a>"
      ]
    },
    {
      "cell_type": "markdown",
      "source": [
        "## Accept input from user and store it in variable and print the value."
      ],
      "metadata": {
        "id": "B9PKPXEKduqp"
      }
    },
    {
      "cell_type": "code",
      "source": [
        "a=100\n",
        "b=200\n",
        "c=int(input())\n",
        "d=int(input())\n",
        "f=a-(b)-(c)-(d)\n",
        "print(f)"
      ],
      "metadata": {
        "colab": {
          "base_uri": "https://localhost:8080/"
        },
        "id": "3LO6huvLdwyw",
        "outputId": "f8a1fea4-9346-4b00-eb52-2969437e80d9"
      },
      "execution_count": 14,
      "outputs": [
        {
          "output_type": "stream",
          "name": "stdout",
          "text": [
            "41\n",
            "32\n",
            "-173\n"
          ]
        }
      ]
    },
    {
      "cell_type": "code",
      "source": [
        "##Printing all even numbers, odd numbers, count of even numbers, count of odd numbers within a given range.\n",
        "for a in range(101,200,2):\n",
        "  print(a)"
      ],
      "metadata": {
        "colab": {
          "base_uri": "https://localhost:8080/"
        },
        "id": "wEQTMTpIe8Of",
        "outputId": "f99385ed-17f9-4163-c34d-e63d1e2448f0"
      },
      "execution_count": 18,
      "outputs": [
        {
          "output_type": "stream",
          "name": "stdout",
          "text": [
            "101\n",
            "103\n",
            "105\n",
            "107\n",
            "109\n",
            "111\n",
            "113\n",
            "115\n",
            "117\n",
            "119\n",
            "121\n",
            "123\n",
            "125\n",
            "127\n",
            "129\n",
            "131\n",
            "133\n",
            "135\n",
            "137\n",
            "139\n",
            "141\n",
            "143\n",
            "145\n",
            "147\n",
            "149\n",
            "151\n",
            "153\n",
            "155\n",
            "157\n",
            "159\n",
            "161\n",
            "163\n",
            "165\n",
            "167\n",
            "169\n",
            "171\n",
            "173\n",
            "175\n",
            "177\n",
            "179\n",
            "181\n",
            "183\n",
            "185\n",
            "187\n",
            "189\n",
            "191\n",
            "193\n",
            "195\n",
            "197\n",
            "199\n"
          ]
        }
      ]
    },
    {
      "cell_type": "markdown",
      "source": [
        "Take 2 numbers as user input and add, multiply, divide, subtract, remainder and print"
      ],
      "metadata": {
        "id": "yWqCpV-pgJ8-"
      }
    },
    {
      "cell_type": "code",
      "source": [
        "a=100\n",
        "b=25\n",
        "c=int(input())\n",
        "d=int(input())"
      ],
      "metadata": {
        "colab": {
          "base_uri": "https://localhost:8080/"
        },
        "id": "KnKYgpiogUqO",
        "outputId": "4dd34ce3-4f7e-4a2c-b303-36474aaca947"
      },
      "execution_count": 19,
      "outputs": [
        {
          "name": "stdout",
          "output_type": "stream",
          "text": [
            "3\n",
            "3\n"
          ]
        }
      ]
    },
    {
      "cell_type": "markdown",
      "source": [
        "Accepting 5 different subject marks from user and displaying the grade of the student"
      ],
      "metadata": {
        "id": "oYy1prpmgvF9"
      }
    },
    {
      "cell_type": "code",
      "source": [
        "a=int(input(\"maths marks\"))\n",
        "b=int(input(\"english marks\"))\n",
        "c=int(input(\"science marks\"))\n",
        "d=int(input(\"biology marks\"))\n",
        "e=int(input(\"physics marks\"))\n",
        "if (a+b+c+d+e)>=450:\n",
        "  print(\"a grade\")\n",
        "elif (a+b+c+d+e)>=400 and (a+b+c+d+e)<=450:\n",
        "  \n",
        "     print(\"b grade\")\n",
        "else:\n",
        "      print(\"c grade\")"
      ],
      "metadata": {
        "colab": {
          "base_uri": "https://localhost:8080/"
        },
        "id": "wzMhHtpygxD9",
        "outputId": "e70545e1-52b5-461a-bbe9-4a6f5a61ea32"
      },
      "execution_count": 24,
      "outputs": [
        {
          "output_type": "stream",
          "name": "stdout",
          "text": [
            "maths marks98\n",
            "english marks97\n",
            "science marks90\n",
            "biology marks69\n",
            "physics marks65\n",
            "b grade\n"
          ]
        }
      ]
    },
    {
      "cell_type": "code",
      "source": [
        "\n",
        "#Usage of mathematical functions in python like math.ceil, floor, fabs, fmod, trunc,\n",
        "#pow, sqrt etc\n",
        "import math\n",
        "a=float(input(\"enter a number \"))\n",
        "print(math.ceil(a))\n",
        "print(math.floor(a))\n",
        "print(math.fabs(a))\n",
        "print(math.trunc(a))\n",
        "print(math.sqrt(a))\n",
        "b=float(input(\"enter a number\"))\n",
        "c=float(input(\"enter a number \"))\n",
        "print(math.fmod(b,c))\n",
        "print(math.pow(b,c))\n"
      ],
      "metadata": {
        "colab": {
          "base_uri": "https://localhost:8080/"
        },
        "id": "eloTUoVmjFgz",
        "outputId": "90566fb7-1ab4-414d-f6c9-5ba4ec98425f"
      },
      "execution_count": 26,
      "outputs": [
        {
          "output_type": "stream",
          "name": "stdout",
          "text": [
            "enter a number 65\n",
            "65\n",
            "65\n",
            "65.0\n",
            "65\n",
            "8.06225774829855\n",
            "enter a number64\n",
            "enter a number 64\n",
            "0.0\n",
            "3.940200619639448e+115\n"
          ]
        }
      ]
    },
    {
      "cell_type": "code",
      "source": [
        "\n",
        "#Conversion of one unit to another (such as hours to minutes, miles to km and etc)\n",
        "a=float(input(\"enter hours\"))\n",
        "print(\"minutes are= \",a*60)\n",
        "b=float(input(\"enter miles\"))\n",
        "print(\"km are= \",b*1.6)\n",
        "\n"
      ],
      "metadata": {
        "colab": {
          "base_uri": "https://localhost:8080/"
        },
        "id": "-BA2O7ICkXPb",
        "outputId": "e87804f3-b2bf-4469-9a26-9b167eb80380"
      },
      "execution_count": 28,
      "outputs": [
        {
          "output_type": "stream",
          "name": "stdout",
          "text": [
            "enter hours43\n",
            "minutes are=  2580.0\n",
            "enter miles25\n",
            "km are=  40.0\n"
          ]
        }
      ]
    },
    {
      "cell_type": "code",
      "source": [
        "#Building a mathematical calculator that can perform operations according to user input.\n",
        "#Use decision making statement.\n",
        "a=float(input(\"enter number \"))\n",
        "b=float(input(\"enter a number \"))\n",
        "o=input(\"enter opeation\")\n",
        "if o==\"sum\":\n",
        "  print(a+b)\n",
        "elif o==\"subtract\":\n",
        "  print(a-b)\n",
        "elif o==\"product\":\n",
        "  print(a*b)\n",
        "elif o==\"remainder\":\n",
        "  print(a%b)\n",
        "else:\n",
        "  print(a/b)"
      ],
      "metadata": {
        "colab": {
          "base_uri": "https://localhost:8080/"
        },
        "id": "h8BNd6kVklCL",
        "outputId": "d659f44b-8320-4db5-f85c-8e2c76ab0603"
      },
      "execution_count": 29,
      "outputs": [
        {
          "output_type": "stream",
          "name": "stdout",
          "text": [
            "enter number 64\n",
            "enter a number 97\n",
            "enter opeation23\n",
            "0.6597938144329897\n"
          ]
        }
      ]
    },
    {
      "cell_type": "code",
      "source": [
        "#Compute the factorial of a given number.\n",
        "n=int(input(\"enter a number \"))\n",
        "fac=1\n",
        "for i in range(1,n+1):\n",
        "  fac=fac*i\n",
        "\n",
        "print(fac)"
      ],
      "metadata": {
        "colab": {
          "base_uri": "https://localhost:8080/"
        },
        "id": "SHjFLacQk3Rj",
        "outputId": "8c613635-d019-4f1d-8480-a7f8bce33f23"
      },
      "execution_count": 30,
      "outputs": [
        {
          "output_type": "stream",
          "name": "stdout",
          "text": [
            "enter a number 12\n",
            "479001600\n"
          ]
        }
      ]
    },
    {
      "cell_type": "code",
      "source": [
        "#Compute GCD of two given \n",
        "a=int(input(\"enter a number\"))\n",
        "b=int(input(\"enter a number\"))\n",
        "k=a if a<b else b\n",
        "while True:\n",
        "    if a%k==0 and b%k==0:\n",
        "     break\n",
        "    k-=1\n",
        "print(k)\n"
      ],
      "metadata": {
        "colab": {
          "base_uri": "https://localhost:8080/"
        },
        "id": "q4m7zId-lEN6",
        "outputId": "a54715df-50e5-4272-b780-b1a169112dea"
      },
      "execution_count": 35,
      "outputs": [
        {
          "output_type": "stream",
          "name": "stdout",
          "text": [
            "enter a number86\n",
            "enter a number8\n",
            "2\n"
          ]
        }
      ]
    },
    {
      "cell_type": "code",
      "source": [
        ""
      ],
      "metadata": {
        "id": "g1psnIIPlKKb"
      },
      "execution_count": null,
      "outputs": []
    }
  ]
}