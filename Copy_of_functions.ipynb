{
  "nbformat": 4,
  "nbformat_minor": 0,
  "metadata": {
    "colab": {
      "name": "Copy of functions.ipynb",
      "provenance": [],
      "collapsed_sections": [],
      "authorship_tag": "ABX9TyOgY8jlFE9XEeNPEbtELZ3X",
      "include_colab_link": true
    },
    "kernelspec": {
      "name": "python3",
      "display_name": "Python 3"
    },
    "language_info": {
      "name": "python"
    }
  },
  "cells": [
    {
      "cell_type": "markdown",
      "metadata": {
        "id": "view-in-github",
        "colab_type": "text"
      },
      "source": [
        "<a href=\"https://colab.research.google.com/github/dhanush1234567890/python-programs/blob/main/Copy_of_functions.ipynb\" target=\"_parent\"><img src=\"https://colab.research.google.com/assets/colab-badge.svg\" alt=\"Open In Colab\"/></a>"
      ]
    },
    {
      "cell_type": "markdown",
      "source": [
        "## calling a function "
      ],
      "metadata": {
        "id": "jYDUQyz7V21V"
      }
    },
    {
      "cell_type": "code",
      "source": [
        "#functions\n",
        "def dhanush():\n",
        "  print(\"Hello from dhanush\")\n",
        "dhanush()"
      ],
      "metadata": {
        "colab": {
          "base_uri": "https://localhost:8080/"
        },
        "id": "0x6wQvKKV8lK",
        "outputId": "8ead84fa-0c82-48f9-93df-c0767fa2b13d"
      },
      "execution_count": null,
      "outputs": [
        {
          "output_type": "stream",
          "name": "stdout",
          "text": [
            "Hello from dhanush\n"
          ]
        }
      ]
    },
    {
      "cell_type": "markdown",
      "source": [
        "## arguments"
      ],
      "metadata": {
        "id": "bo63K6QNXPM7"
      }
    },
    {
      "cell_type": "code",
      "source": [
        "def DHANUSH(HI):\n",
        "  print(HI + \"  STUDENT\")\n",
        "\n",
        "DHANUSH(\"GOOD\")\n",
        "DHANUSH(\"BAD\")\n",
        "DHANUSH(\"AVERAGE\")"
      ],
      "metadata": {
        "colab": {
          "base_uri": "https://localhost:8080/"
        },
        "id": "GyBTGwzlXSSq",
        "outputId": "f196c5fc-a05a-4b6e-d858-bec7d0f15216"
      },
      "execution_count": null,
      "outputs": [
        {
          "output_type": "stream",
          "name": "stdout",
          "text": [
            "GOOD  STUDENT\n",
            "BAD  STUDENT\n",
            "AVERAGE  STUDENT\n"
          ]
        }
      ]
    },
    {
      "cell_type": "markdown",
      "source": [
        "## with arguments and with out return"
      ],
      "metadata": {
        "id": "tuADcp4bdIcI"
      }
    },
    {
      "cell_type": "code",
      "source": [
        "def votting(g, n, a):\n",
        "  print(g + \"male\")\n",
        "  print(n +\"dhanush\")\n",
        "  print(a +\"18\")\n",
        "votting(\"gender:\",\"name:\",\"age:\")"
      ],
      "metadata": {
        "colab": {
          "base_uri": "https://localhost:8080/"
        },
        "id": "2apUvYMCZIvJ",
        "outputId": "fa5773a9-3ce7-4b44-b58a-a12e8d848951"
      },
      "execution_count": null,
      "outputs": [
        {
          "output_type": "stream",
          "name": "stdout",
          "text": [
            "gender:male\n",
            "name:dhanush\n",
            "age:18\n"
          ]
        }
      ]
    },
    {
      "cell_type": "code",
      "source": [
        "def age():\n",
        " a=int(input(\"enter a\"))\n",
        "if(a>=18):\n",
        "  print(\"eligible\")\n",
        "else:\n",
        "   print(\"not eligible\")\n",
        "age()"
      ],
      "metadata": {
        "colab": {
          "base_uri": "https://localhost:8080/"
        },
        "id": "dmlPSmdNdT4H",
        "outputId": "9f4086a5-3a89-4ffe-85ce-f7f1cb863924"
      },
      "execution_count": null,
      "outputs": [
        {
          "name": "stdout",
          "output_type": "stream",
          "text": [
            "eligible\n",
            "enter a55\n"
          ]
        }
      ]
    },
    {
      "cell_type": "markdown",
      "source": [
        "## DEFAULT PARAMETER VALUE"
      ],
      "metadata": {
        "id": "Ufuabaljhqbf"
      }
    },
    {
      "cell_type": "code",
      "source": [
        "def dhanush (name=\"dhanush\"):\n",
        "  print(name + \" is from india\")  \n",
        "\n",
        "dhanush(\"amma\")\n",
        "dhanush(\"brother\")\n",
        "dhanush(\"mama\")\n",
        "dhanush()                  "
      ],
      "metadata": {
        "id": "jNTtFcGve6_P",
        "colab": {
          "base_uri": "https://localhost:8080/"
        },
        "outputId": "025f5910-b8e8-47b7-deae-8eb2a341e190"
      },
      "execution_count": null,
      "outputs": [
        {
          "output_type": "stream",
          "name": "stdout",
          "text": [
            "amma is from india\n",
            "brother is from india\n",
            "mama is from india\n",
            "dhanush is from india\n"
          ]
        }
      ]
    },
    {
      "cell_type": "markdown",
      "source": [
        "## passing list as an argument"
      ],
      "metadata": {
        "id": "oIZSW2eXif9X"
      }
    },
    {
      "cell_type": "code",
      "source": [
        "def dhanush(food):\n",
        "  for x in food:\n",
        "   print(x)\n",
        "\n",
        "choclates = [\"dairy milk\",\"fruitynut\",\"almond roast\"]\n",
        "dhanush(choclates)"
      ],
      "metadata": {
        "colab": {
          "base_uri": "https://localhost:8080/"
        },
        "id": "nPnNvXw5iJLm",
        "outputId": "0e5cb576-c858-4e15-e538-abe8cbcd77b7"
      },
      "execution_count": null,
      "outputs": [
        {
          "output_type": "stream",
          "name": "stdout",
          "text": [
            "dairy milk\n",
            "fruitynut\n",
            "almond roast\n"
          ]
        }
      ]
    },
    {
      "cell_type": "markdown",
      "source": [
        "##return values"
      ],
      "metadata": {
        "id": "HfaWgQijjZ52"
      }
    },
    {
      "cell_type": "code",
      "source": [
        "def dhanush(x):\n",
        "  return 3*x\n",
        "print(dhanush(6))\n",
        "print(dhanush(3))\n",
        "print(dhanush(8))\n",
        "\n"
      ],
      "metadata": {
        "colab": {
          "base_uri": "https://localhost:8080/"
        },
        "id": "PzOF7t5ajLqC",
        "outputId": "388e5b00-44cc-4563-ce60-26bfa564e16a"
      },
      "execution_count": null,
      "outputs": [
        {
          "output_type": "stream",
          "name": "stdout",
          "text": [
            "18\n",
            "9\n",
            "24\n"
          ]
        }
      ]
    },
    {
      "cell_type": "markdown",
      "source": [
        "## recursion"
      ],
      "metadata": {
        "id": "6qGlEAshkq0-"
      }
    },
    {
      "cell_type": "code",
      "source": [
        "def dhanush(x):\n",
        "  if(x>0):\n",
        "    result = x + dhanush(x-1)\n",
        "    print(result)\n",
        "  else:\n",
        "    result = 0\n",
        "  return result\n",
        "\n",
        "print(\"\\n\\nRecursion example results\")\n",
        "dhanush(4)\n",
        "\n",
        " "
      ],
      "metadata": {
        "colab": {
          "base_uri": "https://localhost:8080/"
        },
        "id": "uPYtWuGhkDKe",
        "outputId": "5c3225e1-c945-487a-b690-ff31e66c1260"
      },
      "execution_count": null,
      "outputs": [
        {
          "output_type": "stream",
          "name": "stdout",
          "text": [
            "\n",
            "\n",
            "Recursion example results\n",
            "1\n",
            "3\n",
            "6\n",
            "10\n"
          ]
        },
        {
          "output_type": "execute_result",
          "data": {
            "text/plain": [
              "10"
            ]
          },
          "metadata": {},
          "execution_count": 13
        }
      ]
    },
    {
      "cell_type": "code",
      "source": [
        ""
      ],
      "metadata": {
        "id": "svlQQnKJlKpe"
      },
      "execution_count": null,
      "outputs": []
    }
  ]
}