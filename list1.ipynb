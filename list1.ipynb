{
  "nbformat": 4,
  "nbformat_minor": 0,
  "metadata": {
    "colab": {
      "name": "list.ipynb",
      "provenance": [],
      "collapsed_sections": [],
      "authorship_tag": "ABX9TyOQUUBR/5m3t/AZn5n/EBQf",
      "include_colab_link": true
    },
    "kernelspec": {
      "name": "python3",
      "display_name": "Python 3"
    },
    "language_info": {
      "name": "python"
    }
  },
  "cells": [
    {
      "cell_type": "markdown",
      "metadata": {
        "id": "view-in-github",
        "colab_type": "text"
      },
      "source": [
        "<a href=\"https://colab.research.google.com/github/dhanush1234567890/python-programs/blob/main/list1.ipynb\" target=\"_parent\"><img src=\"https://colab.research.google.com/assets/colab-badge.svg\" alt=\"Open In Colab\"/></a>"
      ]
    },
    {
      "cell_type": "markdown",
      "source": [
        "## printing list"
      ],
      "metadata": {
        "id": "ENEH5_E3NuX7"
      }
    },
    {
      "cell_type": "code",
      "source": [
        "fruit=[\"apple\",\"banana\",\"orange\",\"pineapple\"]\n",
        "print(fruit)"
      ],
      "metadata": {
        "colab": {
          "base_uri": "https://localhost:8080/"
        },
        "id": "OnvvngeQN0r8",
        "outputId": "aedfc919-b72c-4e0f-ab78-073cf2c5539e"
      },
      "execution_count": 1,
      "outputs": [
        {
          "output_type": "stream",
          "name": "stdout",
          "text": [
            "['apple', 'banana', 'orange', 'pineapple']\n"
          ]
        }
      ]
    },
    {
      "cell_type": "markdown",
      "source": [
        ""
      ],
      "metadata": {
        "id": "1rHodyzgOWYG"
      }
    },
    {
      "cell_type": "markdown",
      "source": [
        "## Accessing list"
      ],
      "metadata": {
        "id": "NIytUrCFOZKi"
      }
    },
    {
      "cell_type": "code",
      "source": [
        "fruit=[\"apple\",\"banana\",\"orange\",\"pineapple\"]\n",
        "print(fruit)\n",
        "\n",
        "#PRINT THE FIRST ITEM OF THE LIST\n",
        "print(fruit[0])\n",
        "\n",
        "#NEGATIVE INDEXING\n",
        "print(fruit[-1])\n",
        "\n",
        "#RANGE OF INDEXES\n",
        "print(fruit[0:2])\n",
        "print(fruit[:2])\n",
        "print(fruit[1:2])\n",
        "print(fruit[1:])\n",
        "print(fruit[3:])"
      ],
      "metadata": {
        "colab": {
          "base_uri": "https://localhost:8080/"
        },
        "id": "evx2EIXoOi4V",
        "outputId": "818be811-1210-46f5-e770-9ae6bd5d013a"
      },
      "execution_count": 2,
      "outputs": [
        {
          "output_type": "stream",
          "name": "stdout",
          "text": [
            "['apple', 'banana', 'orange', 'pineapple']\n",
            "apple\n",
            "pineapple\n",
            "['apple', 'banana']\n",
            "['apple', 'banana']\n",
            "['banana']\n",
            "['banana', 'orange', 'pineapple']\n",
            "['pineapple']\n"
          ]
        }
      ]
    },
    {
      "cell_type": "markdown",
      "source": [
        "## CHANING LIST ITEMS "
      ],
      "metadata": {
        "id": "q7kkN_ZNQKQE"
      }
    },
    {
      "cell_type": "code",
      "source": [
        "fruit=[\"apple\",\"banana\",\"orange\",\"pineapple\",]\n",
        "print(fruit)\n",
        "fruit[2:3]=[\"watermelon\"]\n",
        "print(fruit)\n",
        "fruit[2:3]=[\"papaya\",\"kiwi\"]\n",
        "print(fruit)"
      ],
      "metadata": {
        "colab": {
          "base_uri": "https://localhost:8080/"
        },
        "id": "Io7-WAJ3QVvM",
        "outputId": "2e81fcf4-d0ce-40c2-aa0b-8ce46fe148aa"
      },
      "execution_count": 3,
      "outputs": [
        {
          "output_type": "stream",
          "name": "stdout",
          "text": [
            "['apple', 'banana', 'orange', 'pineapple']\n",
            "['apple', 'banana', 'watermelon', 'pineapple']\n",
            "['apple', 'banana', 'papaya', 'kiwi', 'pineapple']\n"
          ]
        }
      ]
    },
    {
      "cell_type": "markdown",
      "source": [
        "## EXTENDING THE ITEM"
      ],
      "metadata": {
        "id": "tXyUmtjBRUal"
      }
    },
    {
      "cell_type": "markdown",
      "source": [
        ""
      ],
      "metadata": {
        "id": "p-PHG_3jRcYY"
      }
    },
    {
      "cell_type": "code",
      "source": [
        "fruit=[\"apple\",\"banana\",\"orange\",\"pineapple\"]\n",
        "print(fruit)\n",
        "fruit[2:4]=\"papaya\"\n",
        "print(fruit)"
      ],
      "metadata": {
        "colab": {
          "base_uri": "https://localhost:8080/"
        },
        "id": "REXUoLwYRikY",
        "outputId": "7fb3c73d-4a11-45c4-a537-3edac4858680"
      },
      "execution_count": 4,
      "outputs": [
        {
          "output_type": "stream",
          "name": "stdout",
          "text": [
            "['apple', 'banana', 'orange', 'pineapple']\n",
            "['apple', 'banana', 'p', 'a', 'p', 'a', 'y', 'a']\n"
          ]
        }
      ]
    },
    {
      "cell_type": "markdown",
      "source": [
        "## ADD LIST ITEMS"
      ],
      "metadata": {
        "id": "8-XyMWutSA-v"
      }
    },
    {
      "cell_type": "code",
      "source": [
        "fruit=[\"apple\",\"banana\",\"orange\",\"pineapple\"]\n",
        "print(fruit)\n",
        "\n",
        "#APPEND\n",
        "fruit.append(\"papaya\")\n",
        "print(fruit)\n",
        "\n",
        "#INSERTING\n",
        "fruit.insert(4,\"guava\")\n",
        "print(fruit)\n",
        "fruit.insert(1,\"kiwi\")\n",
        "print(fruit)\n",
        "\n",
        "#EXTENDING THE LIST\n",
        "extra=(\"watermelon\",\"papaya\")\n",
        "fruit.extend(extra)\n",
        "print(fruit)"
      ],
      "metadata": {
        "colab": {
          "base_uri": "https://localhost:8080/"
        },
        "id": "1pSkD-xRSE-p",
        "outputId": "be824a66-3d02-4a81-cf6c-7ec1eed8493d"
      },
      "execution_count": 6,
      "outputs": [
        {
          "output_type": "stream",
          "name": "stdout",
          "text": [
            "['apple', 'banana', 'orange', 'pineapple']\n",
            "['apple', 'banana', 'orange', 'pineapple', 'papaya']\n",
            "['apple', 'banana', 'orange', 'pineapple', 'guava', 'papaya']\n",
            "['apple', 'kiwi', 'banana', 'orange', 'pineapple', 'guava', 'papaya']\n",
            "['apple', 'kiwi', 'banana', 'orange', 'pineapple', 'guava', 'papaya', 'watermelon', 'papaya']\n"
          ]
        }
      ]
    },
    {
      "cell_type": "markdown",
      "source": [
        "## REMOVING LIST ITEMS"
      ],
      "metadata": {
        "id": "iT6Oqh4ET72x"
      }
    },
    {
      "cell_type": "code",
      "source": [
        "fruit=[\"apple\",\"banana\",\"orange\",\"pineapple\"]\n",
        "print(fruit)\n",
        "\n",
        "#REMOVING LIST ITEM\n",
        "fruit.remove(\"orange\")\n",
        "print(fruit)\n",
        "\n",
        "#POP AND REMOVE ARE SAME\n",
        "fruit.pop(1)\n",
        "print(fruit)\n",
        "\n",
        "#DELETE\n",
        "del fruit[0]\n",
        "print(fruit)\n",
        "\n",
        "#CLEARING THE LIST \n",
        "fruit.clear()\n",
        "print(fruit)"
      ],
      "metadata": {
        "colab": {
          "base_uri": "https://localhost:8080/"
        },
        "id": "_LT42gh1UUed",
        "outputId": "0bdb0424-7729-4957-acef-eb33a6d0af74"
      },
      "execution_count": 7,
      "outputs": [
        {
          "output_type": "stream",
          "name": "stdout",
          "text": [
            "['apple', 'banana', 'orange', 'pineapple']\n",
            "['apple', 'banana', 'pineapple']\n",
            "['apple', 'pineapple']\n",
            "['pineapple']\n",
            "[]\n"
          ]
        }
      ]
    },
    {
      "cell_type": "markdown",
      "source": [
        "## LOOP LIST"
      ],
      "metadata": {
        "id": "mzISfDKlV0SR"
      }
    },
    {
      "cell_type": "code",
      "source": [
        "fruit=[\"apple\",\"banana\",\"orange\"]\n",
        "print(fruit)\n",
        "\n",
        "#FOR LOOP\n",
        "for x in fruit:\n",
        "  print(x)\n",
        "\n",
        "  #RANGE\n",
        "  for i in range(len(fruit)):\n",
        "    print(fruit[1])\n",
        "\n",
        "    #WHILE LOOP\n",
        "    i=0\n",
        "    while i < len(fruit):\n",
        "      print(fruit[i])\n",
        "      i=i+1\n",
        "\n",
        "      #FOR LOOP\n",
        "      [print(x) for x in fruit]\n"
      ],
      "metadata": {
        "colab": {
          "base_uri": "https://localhost:8080/"
        },
        "id": "OQBkSRs-V_uJ",
        "outputId": "8def43fc-60fe-490f-fa20-0cf9a878b7fb"
      },
      "execution_count": 9,
      "outputs": [
        {
          "output_type": "stream",
          "name": "stdout",
          "text": [
            "['apple', 'banana', 'orange']\n",
            "apple\n",
            "banana\n",
            "apple\n",
            "apple\n",
            "banana\n",
            "orange\n",
            "banana\n",
            "apple\n",
            "banana\n",
            "orange\n",
            "orange\n",
            "apple\n",
            "banana\n",
            "orange\n",
            "banana\n",
            "apple\n",
            "apple\n",
            "banana\n",
            "orange\n",
            "banana\n",
            "apple\n",
            "banana\n",
            "orange\n",
            "orange\n",
            "apple\n",
            "banana\n",
            "orange\n",
            "banana\n",
            "apple\n",
            "apple\n",
            "banana\n",
            "orange\n",
            "banana\n",
            "apple\n",
            "banana\n",
            "orange\n",
            "orange\n",
            "apple\n",
            "banana\n",
            "orange\n",
            "banana\n",
            "banana\n",
            "apple\n",
            "apple\n",
            "banana\n",
            "orange\n",
            "banana\n",
            "apple\n",
            "banana\n",
            "orange\n",
            "orange\n",
            "apple\n",
            "banana\n",
            "orange\n",
            "banana\n",
            "apple\n",
            "apple\n",
            "banana\n",
            "orange\n",
            "banana\n",
            "apple\n",
            "banana\n",
            "orange\n",
            "orange\n",
            "apple\n",
            "banana\n",
            "orange\n",
            "banana\n",
            "apple\n",
            "apple\n",
            "banana\n",
            "orange\n",
            "banana\n",
            "apple\n",
            "banana\n",
            "orange\n",
            "orange\n",
            "apple\n",
            "banana\n",
            "orange\n",
            "orange\n",
            "banana\n",
            "apple\n",
            "apple\n",
            "banana\n",
            "orange\n",
            "banana\n",
            "apple\n",
            "banana\n",
            "orange\n",
            "orange\n",
            "apple\n",
            "banana\n",
            "orange\n",
            "banana\n",
            "apple\n",
            "apple\n",
            "banana\n",
            "orange\n",
            "banana\n",
            "apple\n",
            "banana\n",
            "orange\n",
            "orange\n",
            "apple\n",
            "banana\n",
            "orange\n",
            "banana\n",
            "apple\n",
            "apple\n",
            "banana\n",
            "orange\n",
            "banana\n",
            "apple\n",
            "banana\n",
            "orange\n",
            "orange\n",
            "apple\n",
            "banana\n",
            "orange\n"
          ]
        }
      ]
    },
    {
      "cell_type": "markdown",
      "source": [
        "## LIST OF COMPRENSION"
      ],
      "metadata": {
        "id": "MSyMwKcuXSG0"
      }
    },
    {
      "cell_type": "code",
      "source": [
        "fruit=[\"apple\",\"watermelon\",\"papaya\"]\n",
        "newlist=[x for x in fruit if \"y\" in x]\n",
        "print(newlist)\n",
        "\n",
        "newlist=[x for x in fruit if x !=\"apple\"]\n",
        "print(newlist)\n",
        "\n",
        "newlist=[x for x in fruit]\n",
        "print(newlist)\n",
        "\n",
        "newlist=[x for x in range(11)]\n",
        "print(newlist)\n",
        "\n",
        "newlist=[x for x in range(9) if x<5]\n",
        "print(newlist)\n",
        "\n",
        "newlist=[x.upper()for x in fruit]\n",
        "print(newlist)\n",
        "\n",
        "newlist=['hello' for x in fruit]\n",
        "print(newlist)\n",
        "\n",
        "newlist=[x if x !=\"apple\" else \"papaya\"  for x in fruit]\n",
        "print(newlist)\n"
      ],
      "metadata": {
        "colab": {
          "base_uri": "https://localhost:8080/"
        },
        "id": "98-K5NaRXfpm",
        "outputId": "0e8c3748-de43-45da-ec46-ba62aa3ade17"
      },
      "execution_count": 10,
      "outputs": [
        {
          "output_type": "stream",
          "name": "stdout",
          "text": [
            "['papaya']\n",
            "['watermelon', 'papaya']\n",
            "['apple', 'watermelon', 'papaya']\n",
            "[0, 1, 2, 3, 4, 5, 6, 7, 8, 9, 10]\n",
            "[0, 1, 2, 3, 4]\n",
            "['APPLE', 'WATERMELON', 'PAPAYA']\n",
            "['hello', 'hello', 'hello']\n",
            "['papaya', 'watermelon', 'papaya']\n"
          ]
        }
      ]
    },
    {
      "cell_type": "markdown",
      "source": [
        "## SORT LIST"
      ],
      "metadata": {
        "id": "8eS4Jv7ea2Fo"
      }
    },
    {
      "cell_type": "code",
      "source": [
        "# SORT ALPH\n",
        "fruit=[\"apple\",\"pineapple\",\"orange\",\"banana\",\"guava\"]\n",
        "fruit.sort()\n",
        "print(fruit)\n",
        "\n",
        "#SORT NUMERICALLY\n",
        "numbers=[\"10\",\"40\",\"143\",\"33\",\"28\"]\n",
        "numbers.sort()\n",
        "print(numbers)\n",
        "\n",
        "#SORT DESCENDING\n",
        "fruit=[\"apple\",\"pineapple\",\"orange\",\"banana\",\"guava\"]\n",
        "fruit.sort(reverse = True)\n",
        "print(numbers)\n",
        "\n",
        "#CUSTOMISE SORT FUNCTION\n",
        "def myfunc(n):\n",
        "  return abs(n - 50)\n",
        "  numbers = [10,40,143,33,28]\n",
        "  numbers.sort(key=myfunc)\n",
        "  print(numbers)\n",
        "\n",
        "  #CASE INSENSTIVE SORT\n",
        "  fruit =[\"apple\",\"pineapple\",\"orange\",\"banana\",\"guava\"]\n",
        "  fruit.reverse()\n",
        "  print(fruit)"
      ],
      "metadata": {
        "colab": {
          "base_uri": "https://localhost:8080/"
        },
        "id": "zNV9ajhba_6X",
        "outputId": "fc5507ce-abc3-4d6a-fd3c-f2c2ad60e036"
      },
      "execution_count": 12,
      "outputs": [
        {
          "output_type": "stream",
          "name": "stdout",
          "text": [
            "['apple', 'banana', 'guava', 'orange', 'pineapple']\n",
            "['10', '143', '28', '33', '40']\n",
            "['10', '143', '28', '33', '40']\n"
          ]
        }
      ]
    },
    {
      "cell_type": "markdown",
      "source": [
        "## copy list"
      ],
      "metadata": {
        "id": "ig7zP8rtegh6"
      }
    },
    {
      "cell_type": "code",
      "source": [
        "#COPY A LIST\n",
        "fruit = [\"apple\",\"banana\",\"orange\"]\n",
        "mylist=fruit.copy()\n",
        "print(mylist)\n",
        "\n",
        "mylist=list(fruit)\n",
        "print(mylist)\n"
      ],
      "metadata": {
        "colab": {
          "base_uri": "https://localhost:8080/"
        },
        "id": "I1r4nqGeejrl",
        "outputId": "dd8bae10-9fd0-4fb6-cc48-33fd2309ca9c"
      },
      "execution_count": 13,
      "outputs": [
        {
          "output_type": "stream",
          "name": "stdout",
          "text": [
            "['apple', 'banana', 'orange']\n",
            "['apple', 'banana', 'orange']\n"
          ]
        }
      ]
    },
    {
      "cell_type": "markdown",
      "source": [
        "## JOIN LISTS"
      ],
      "metadata": {
        "id": "DERs-0xBfQ-w"
      }
    },
    {
      "cell_type": "code",
      "source": [
        "#JOIN TWO LISTS\n",
        "a=[\"d\",\"e\",\"f\"]\n",
        "b=[1,2,3]\n",
        "c=a+b\n",
        "print(c)\n",
        "\n",
        "a=[\"d\",\"e\",\"f\"]\n",
        "b=[1,2,3]\n",
        "for x in b:\n",
        "  a.append(x)\n",
        "  print(a)\n",
        "\n",
        "  #EXTEND\n",
        "  a=[\"d\",\"e\",\"f\"]\n",
        "  b=[1,2,3]\n",
        "  a.extend(b)\n",
        "  print(a)"
      ],
      "metadata": {
        "colab": {
          "base_uri": "https://localhost:8080/"
        },
        "id": "Gx9HFm7ifVFm",
        "outputId": "bdc76a8d-a162-437b-cf6b-205f854d9520"
      },
      "execution_count": 15,
      "outputs": [
        {
          "output_type": "stream",
          "name": "stdout",
          "text": [
            "['d', 'e', 'f', 1, 2, 3]\n",
            "['d', 'e', 'f', 1]\n",
            "['d', 'e', 'f', 1, 2, 3]\n",
            "['d', 'e', 'f', 1, 2, 3, 2]\n",
            "['d', 'e', 'f', 1, 2, 3]\n",
            "['d', 'e', 'f', 1, 2, 3, 3]\n",
            "['d', 'e', 'f', 1, 2, 3]\n"
          ]
        }
      ]
    }
  ]
}